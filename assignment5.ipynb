{
 "cells": [
  {
   "cell_type": "markdown",
   "metadata": {},
   "source": [
    "# Assignment 5\n",
    "\n",
    "In this assignment, you'll scrape text from [The California Aggie](https://theaggie.org/) and then analyze the text.\n",
    "\n",
    "The Aggie is organized by category into article lists. For example, there's a [Campus News](https://theaggie.org/campus/) list, [Arts & Culture](https://theaggie.org/arts/) list, and [Sports](https://theaggie.org/sports/) list. Notice that each list has multiple pages, with a maximum of 15 articles per page.\n",
    "\n",
    "The goal of exercises 1.1 - 1.3 is to scrape articles from the Aggie for analysis in exercise 1.4."
   ]
  },
  {
   "cell_type": "markdown",
   "metadata": {},
   "source": [
    "__Exercise 1.1.__ Write a function that extracts all of the links to articles in an Aggie article list. The function should:\n",
    "\n",
    "* Have a parameter `url` for the URL of the article list.\n",
    "\n",
    "* Have a parameter `page` for the number of pages to fetch links from. The default should be `1`.\n",
    "\n",
    "* Return a list of aricle URLs (each URL should be a string).\n",
    "\n",
    "Test your function on 2-3 different categories to make sure it works.\n",
    "\n",
    "Hints:\n",
    "\n",
    "* Be polite to The Aggie and save time by setting up [requests_cache](https://pypi.python.org/pypi/requests-cache) before you write your function.\n",
    "\n",
    "* Start by getting your function to work for just 1 page. Once that works, have your function call itself to get additional pages.\n",
    "\n",
    "* You can use [lxml.html](http://lxml.de/lxmlhtml.html) or [BeautifulSoup](https://www.crummy.com/software/BeautifulSoup/bs4/doc/) to scrape HTML. Choose one and use it throughout the entire assignment."
   ]
  },
  {
   "cell_type": "code",
   "execution_count": 2,
   "metadata": {
    "collapsed": true
   },
   "outputs": [],
   "source": [
    "import requests\n",
    "import requests_cache\n",
    "\n",
    "def fetch_page(url):\n",
    "    response = requests.get(url)\n",
    "    # Throw an error if status isn't 200 OK.\n",
    "    response.raise_for_status()\n",
    "    return response"
   ]
  },
  {
   "cell_type": "code",
   "execution_count": 3,
   "metadata": {
    "collapsed": true
   },
   "outputs": [],
   "source": [
    "def all_pages(url,number):\n",
    "    \"\"\"\n",
    "    This function is to produce a list of urls\n",
    "    Input: url string; number integer\n",
    "    Output: all urls list\n",
    "    \"\"\"\n",
    "    if number == 1:\n",
    "        urls = url\n",
    "    if number >1:\n",
    "        urls = [url+\"page/\"+str(i)+\"/\" for i in range(number+1)[2:]]\n",
    "        urls.insert(0, url)\n",
    "    return urls"
   ]
  },
  {
   "cell_type": "code",
   "execution_count": 4,
   "metadata": {
    "collapsed": true
   },
   "outputs": [],
   "source": [
    "import lxml.html as lx\n",
    "import pandas as pd\n",
    "import re #for regular expression\n",
    "def parse_page(page):\n",
    "    \"\"\"\n",
    "    This function is to parse all useful information from the page\n",
    "    Input: page\n",
    "    Output: a table of article titles and urls DataFrame\n",
    "    \"\"\"\n",
    "    html = lx.fromstring(page.text)\n",
    "    a = html.cssselect(\"h2>a\")\n",
    "    articles = [re.sub(r'Permanent Link to ', '',x.get(\"title\").strip(\"\")) for x in a]\n",
    "    urls = [x.get(\"href\") for x in a]\n",
    "    return pd.DataFrame({\"articles\": articles, \"url\": urls})"
   ]
  },
  {
   "cell_type": "code",
   "execution_count": 5,
   "metadata": {
    "collapsed": true
   },
   "outputs": [],
   "source": [
    "def final_list(url, number = 1):\n",
    "    urls = all_pages(url, number)\n",
    "    if number == 1:\n",
    "        page = fetch_page(urls)\n",
    "        data = parse_page(page)\n",
    "    if number > 1:\n",
    "        data = []\n",
    "        for url in urls:\n",
    "            page = fetch_page(url)\n",
    "            data.append(parse_page(page))\n",
    "        data = pd.concat(data,ignore_index=True)\n",
    "\n",
    "    return (data, list(data[\"url\"]))"
   ]
  },
  {
   "cell_type": "code",
   "execution_count": 6,
   "metadata": {
    "collapsed": false
   },
   "outputs": [
    {
     "data": {
      "text/plain": [
       "['https://theaggie.org/2017/02/23/sacramentos-artstreet-exhibit-showcases-diverse-artwork/',\n",
       " 'https://theaggie.org/2017/02/23/armadillo-kdvs-collaborate-to-host-vinyl-and-music-fair/',\n",
       " 'https://theaggie.org/2017/02/23/harlows-nightclub-presents-khalid/',\n",
       " 'https://theaggie.org/2017/02/21/late-night-eats-in-davis/',\n",
       " 'https://theaggie.org/2017/02/21/2017-oscar-nominations-and-predictions/',\n",
       " 'https://theaggie.org/2017/02/20/student-sounds-samantha-sipin/',\n",
       " 'https://theaggie.org/2017/02/20/tv-revisited-the-office/',\n",
       " 'https://theaggie.org/2017/02/19/uc-davis-theater-and-dance-presents-its-newest-comedy/',\n",
       " 'https://theaggie.org/2017/02/19/twenty-one-pilots-emotional-roadshow-world-tour/',\n",
       " 'https://theaggie.org/2017/02/16/a-night-under-the-stars/',\n",
       " 'https://theaggie.org/2017/02/14/critically-acclaimed-stand-up-comic-brian-regan-to-perform-at-mondavi-center/',\n",
       " 'https://theaggie.org/2017/02/13/burning-love-parody-of-the-bachelor/',\n",
       " 'https://theaggie.org/2017/02/12/the-bachelor-engages-viewers-prompts-viewing-rituals/',\n",
       " 'https://theaggie.org/2017/02/12/seven-movies-from-the-seven-countries-targeted-by-president-trumps-muslim-ban/',\n",
       " 'https://theaggie.org/2017/02/12/the-best-of-times-and-the-worst-of-times-a-valentines-day-playlist/']"
      ]
     },
     "execution_count": 6,
     "metadata": {},
     "output_type": "execute_result"
    }
   ],
   "source": [
    "url1 = \"https://theaggie.org/arts/\"\n",
    "xx1, urls1 = final_list(url1)\n",
    "urls1"
   ]
  },
  {
   "cell_type": "code",
   "execution_count": 7,
   "metadata": {
    "collapsed": false
   },
   "outputs": [
    {
     "data": {
      "text/plain": [
       "['https://theaggie.org/2017/02/24/uc-davis-back-on-track-with-win-over-matadors/',\n",
       " 'https://theaggie.org/2017/02/24/aggie-womens-basketball-team-says-neigh-to-mustangs/',\n",
       " 'https://theaggie.org/2017/02/23/the-amazeing-aggies/',\n",
       " 'https://theaggie.org/2017/02/23/uc-davis-womens-water-polo-dominates-aggie-shootout/',\n",
       " 'https://theaggie.org/2017/02/23/womens-gymnastics-take-two/',\n",
       " 'https://theaggie.org/2017/02/21/what-are-your-thoughts-on-uc-davis-athletics/',\n",
       " 'https://theaggie.org/2017/02/20/a-day-in-the-life-of-an-athletic-trainer/',\n",
       " 'https://theaggie.org/2017/02/19/a-lifetime-of-tennis/',\n",
       " 'https://theaggie.org/2017/02/17/uc-davis-womens-basketball-team-holds-off-uc-irvine-62-42/',\n",
       " 'https://theaggie.org/2017/02/17/nba-awards-at-the-all-star-break/',\n",
       " 'https://theaggie.org/2017/02/17/womens-lacrosse-soars-over-the-blackbirds/',\n",
       " 'https://theaggie.org/2017/02/17/uc-davis-womens-lacrosse-falls-in-tough-season-opener/',\n",
       " 'https://theaggie.org/2017/02/16/uc-davis-softball-falls-in-home-opener/',\n",
       " 'https://theaggie.org/2017/02/16/ags-compensate-for-recent-loss-to-highlanders-with-decisive-win/',\n",
       " 'https://theaggie.org/2017/02/13/uc-davis-athletes-excel-academically/']"
      ]
     },
     "execution_count": 7,
     "metadata": {},
     "output_type": "execute_result"
    }
   ],
   "source": [
    "url2 = \"https://theaggie.org/sports/\"\n",
    "xx2, urls2 = final_list(url2)\n",
    "urls2"
   ]
  },
  {
   "cell_type": "code",
   "execution_count": 8,
   "metadata": {
    "collapsed": false
   },
   "outputs": [
    {
     "data": {
      "text/plain": [
       "['https://theaggie.org/2017/02/23/uc-davis-offers-scientific-marijuana-course-for-undergraduate-students/',\n",
       " 'https://theaggie.org/2017/02/23/arboretum-waterway-restoration-project-underway/',\n",
       " 'https://theaggie.org/2017/02/21/looking-for-life-on-other-planets/',\n",
       " 'https://theaggie.org/2017/02/21/serious-health-effects-linked-to-agent-orange-exposure/',\n",
       " 'https://theaggie.org/2017/02/20/fossil-discovery-provides-new-evidence-to-life-after-mass-extinction/',\n",
       " 'https://theaggie.org/2017/02/19/h0licow-collaborations-and-the-expanding-universe/',\n",
       " 'https://theaggie.org/2017/02/16/closing-the-drapes-on-vapes/',\n",
       " 'https://theaggie.org/2017/02/13/moth-species-named-after-newly-elected-president/',\n",
       " 'https://theaggie.org/2017/02/09/autism-spectrum-disorder-the-latest-hack/',\n",
       " 'https://theaggie.org/2017/02/09/coders-at-datarescuedavis-archive-federal-at-risk-databases/',\n",
       " 'https://theaggie.org/2017/02/07/a-powerhouse-in-the-making/',\n",
       " 'https://theaggie.org/2017/02/02/better-bee-lieve-it-uc-davis-entomologist-helped-list-bee-as-endangered/',\n",
       " 'https://theaggie.org/2017/01/29/the-uc-davis-modlab/',\n",
       " 'https://theaggie.org/2017/01/26/is-breast-really-best/',\n",
       " 'https://theaggie.org/2017/01/23/uc-davis-research-may-lead-to-custom-transplant-organs-grown-in-farm-animals/',\n",
       " 'https://theaggie.org/2017/01/22/a-window-into-observing-brain-activity-during-reading/',\n",
       " 'https://theaggie.org/2017/01/20/social-networking-promotes-survival-in-animals/',\n",
       " 'https://theaggie.org/2017/01/16/scientists-help-paraplegic-patients-move-again-through-manipulation-of-the-brain/',\n",
       " 'https://theaggie.org/2017/01/12/human-gastric-simulator-is-developed-at-uc-davis/',\n",
       " 'https://theaggie.org/2016/12/09/fingerprint-recognition-on-smartphones-unsafe-and-hackable/',\n",
       " 'https://theaggie.org/2016/12/09/under-pressure/',\n",
       " 'https://theaggie.org/2016/12/08/neanderthal-genes-survive-in-modern-humans/',\n",
       " 'https://theaggie.org/2016/12/07/nationwide-opioid-epidemic-hits-uc-davis/',\n",
       " 'https://theaggie.org/2016/12/05/new-violent-collision-theory-on-the-creation-of-the-moon/',\n",
       " 'https://theaggie.org/2016/12/02/mcclellan-nuclear-research-center-energizing-neutrons-and-minds/',\n",
       " 'https://theaggie.org/2016/11/30/the-uc-davis-botanical-conservatory/',\n",
       " 'https://theaggie.org/2016/11/27/bats-found-on-uc-davis-campus-may-be-ill-not-tired/',\n",
       " 'https://theaggie.org/2016/11/21/the-truth-about-kava/',\n",
       " 'https://theaggie.org/2016/11/21/linking-environmental-toxicants-and-human-health/',\n",
       " 'https://theaggie.org/2016/11/20/a-summer-in-cambodia/',\n",
       " 'https://theaggie.org/2016/11/18/relationship-science-class-to-be-offered-winter-quarter/',\n",
       " 'https://theaggie.org/2016/11/15/uc-davis-veterinary-school-holds-monthly-free-pet-clinic/',\n",
       " 'https://theaggie.org/2016/11/15/new-cell-biology-and-human-anatomy-course-to-be-offered-during-winter-quarter/',\n",
       " 'https://theaggie.org/2016/11/13/bridging-yoga-and-health-care/',\n",
       " 'https://theaggie.org/2016/11/07/paleobiologists-uncover-earths-history-reach-new-depths/',\n",
       " 'https://theaggie.org/2016/11/03/hold-your-horses-equine-work-may-prove-healing-for-people-with-dementia/',\n",
       " 'https://theaggie.org/2016/11/01/maximizing-the-capability-of-the-human-body/',\n",
       " 'https://theaggie.org/2016/10/30/uc-davis-alumnus-publishes-culinary-science-book/',\n",
       " 'https://theaggie.org/2016/10/27/uc-davis-college-of-engineering-launches-summer-bridge-program-for-first-generation-students/',\n",
       " 'https://theaggie.org/2016/10/25/tech-dirty-to-me-microdosing/',\n",
       " 'https://theaggie.org/2016/10/24/publishing-undergraduate-research-on-campus-resources/',\n",
       " 'https://theaggie.org/2016/10/20/uc-davis-clinical-trial-saves-woman-fighting-ovarian-cancer/',\n",
       " 'https://theaggie.org/2016/10/17/robotic-larvae-released-in-ocean/',\n",
       " 'https://theaggie.org/2016/10/14/uc-davis-researchers-study-brain-activity-in-deaf-children/',\n",
       " 'https://theaggie.org/2016/10/09/uc-davis-sued-for-failure-to-release-public-information/']"
      ]
     },
     "execution_count": 8,
     "metadata": {},
     "output_type": "execute_result"
    }
   ],
   "source": [
    "url3 = \"https://theaggie.org/sciencetech/\"\n",
    "xx3, urls3 = final_list(url3,3)\n",
    "urls3"
   ]
  },
  {
   "cell_type": "markdown",
   "metadata": {},
   "source": [
    "__Exercise 1.2.__ Write a function that extracts the title, text, and author of an Aggie article. The function should:\n",
    "\n",
    "* Have a parameter `url` for the URL of the article.\n",
    "\n",
    "* For the author, extract the \"Written By\" line that appears at the end of most articles. You don't have to extract the author's name from this line.\n",
    "\n",
    "* Return a dictionary with keys \"url\", \"title\", \"text\", and \"author\". The values for these should be the article url, title, text, and author, respectively.\n",
    "\n",
    "For example, for [this article](https://theaggie.org/2017/02/14/project-toto-aims-to-address-questions-regarding-city-finances/) your function should return something similar to this:\n",
    "```\n",
    "{\n",
    "    'author': u'Written By: Bianca Antunez \\xa0\\u2014\\xa0city@theaggie.org',\n",
    "    'text': u'Davis residents create financial model to make city\\'s financial state more transparent To increase transparency between the city\\'s financial situation and the community, three residents created a model called Project Toto which aims to improve how the city communicates its finances in an easily accessible design. Jeff Miller and Matt Williams, who are members of Davis\\' Finance and Budget Commission, joined together with Davis entrepreneur Bob Fung to create the model plan to bring the project to the Finance and Budget Commission in February, according to Kelly Stachowicz, assistant city manager. \"City staff appreciate the efforts that have gone into this, and the interest in trying to look at the city\\'s potential financial position over the long term,\" Stachowicz said in an email interview. \"We all have a shared goal to plan for a sound fiscal future with few surprises. We believe the Project Toto effort will mesh well with our other efforts as we build the budget for the next fiscal year and beyond.\" Project Toto complements the city\\'s effort to amplify the transparency of city decisions to community members. The aim is to increase the understanding about the city\\'s financial situation and make the information more accessible and easier to understand. The project is mostly a tool for public education, but can also make predictions about potential decisions regarding the city\\'s financial future. Once completed, the program will allow residents to manipulate variables to see their eventual consequences, such as tax increases or extensions and proposed developments \"This really isn\\'t a budget, it is a forecast to see the intervention of these decisions,\" Williams said in an interview with The Davis Enterprise. \"What happens if we extend the sales tax? What does it do given the other numbers that are in?\" Project Toto enables users, whether it be a curious Davis resident, a concerned community member or a city leader, with the ability to project city finances with differing variables. The online program consists of the 400-page city budget for the 2016-2017 fiscal year, the previous budget, staff reports and consultant analyses. All of the documents are cited and accessible to the public within Project Toto. \"It\\'s a model that very easily lends itself to visual representation,\" Mayor Robb Davis said. \"You can see the impacts of decisions the council makes on the fiscal health of the city.\" Complementary to this program, there is also a more advanced version of the model with more in-depth analyses of the city\\'s finances. However, for an easy-to-understand, simplistic overview, Project Toto should be enough to help residents comprehend Davis finances. There is still more to do on the project, but its creators are hard at work trying to finalize it before the 2017-2018 fiscal year budget. \"It\\'s something I have been very much supportive of,\" Davis said. \"Transparency is not just something that I have been supportive of but something we have stated as a city council objective [ ] this fits very well with our attempt to inform the public of our challenges with our fiscal situation.\" ',\n",
    "    'title': 'Project Toto aims to address questions regarding city finances',\n",
    "    'url': 'https://theaggie.org/2017/02/14/project-toto-aims-to-address-questions-regarding-city-finances/'\n",
    "}\n",
    "```\n",
    "\n",
    "Hints:\n",
    "\n",
    "* The author line is always the last line of the last paragraph.\n",
    "\n",
    "*   Python 2 displays some Unicode characters as `\\uXXXX`. For instance, `\\u201c` is a left-facing quotation mark.\n",
    "    You can convert most of these to ASCII characters with the method call (on a string)\n",
    "    ```\n",
    "    .translate({ 0x2018:0x27, 0x2019:0x27, 0x201C:0x22, 0x201D:0x22, 0x2026:0x20 })\n",
    "    ```\n",
    "    If you're curious about these characters, you can look them up on [this page](http://unicode.org/cldr/utility/character.jsp), or read \n",
    "    more about [what Unicode is](http://unicode.org/standard/WhatIsUnicode.html)."
   ]
  },
  {
   "cell_type": "code",
   "execution_count": 9,
   "metadata": {
    "collapsed": true
   },
   "outputs": [],
   "source": [
    "def fetch_text(url):\n",
    "    page = fetch_page(url)\n",
    "    html = lx.fromstring(page.text)\n",
    "    title = html.cssselect(\"main>article>header>h1\")[0].text_content()\n",
    "    text = html.cssselect(\"article\")[0].cssselect(\"p\")\n",
    "    article = \"\".join([x.text_content() for x in text[:-1]])\n",
    "    if not all(ord(char) < 128 for char in article):\n",
    "        article = article.translate({ 0x2018:0x27, 0x2019:0x27, 0x201C:0x22, 0x201D:0x22, 0x2026:0x20 }) \n",
    "    if len(re.findall(r\"(.+?)Written\", text[-1].text_content())) ==1:\n",
    "        article = article + re.findall(r\"(.+?)Written\", text[-1].text_content())[0]\n",
    "    if len(re.findall(r\"Written(.+)\", text[-1].text_content())) ==1:\n",
    "        author = \"Written\"+re.findall(r\"Written(.+)\", text[-1].text_content())[0]\n",
    "    else:\n",
    "        author = \"NaN\"\n",
    "    return {\"author\": author, \"text\": article, \"title\": title, \"url\": url}"
   ]
  },
  {
   "cell_type": "code",
   "execution_count": 10,
   "metadata": {
    "collapsed": false
   },
   "outputs": [
    {
     "data": {
      "text/plain": [
       "{'author': u'Written By: Bianca Antunez \\xa0\\u2014\\xa0city@theaggie.org',\n",
       " 'text': u'Davis residents create financial model to make city\\'s financial state more transparentTo increase transparency between the city\\'s financial situation and the community, three residents created a model called Project Toto which aims to improve how the city communicates its finances in an easily accessible design. Jeff Miller and Matt Williams, who are members of Davis\\' Finance and Budget Commission, joined together with Davis entrepreneur Bob Fung to create the model plan to bring the project to the Finance and Budget Commission in February, according to Kelly Stachowicz, assistant city manager. \"City staff appreciate the efforts that have gone into this, and the interest in trying to look at the city\\'s potential financial position over the long term,\" Stachowicz said in an email interview. \"We all have a shared goal to plan for a sound fiscal future with few surprises. We believe the Project Toto effort will mesh well with our other efforts as we build the budget for the next fiscal year and beyond.\"Project Toto complements the city\\'s effort to amplify the transparency of city decisions to community members. The aim is to increase the understanding about the city\\'s financial situation and make the information more accessible and easier to understand.The project is mostly a tool for public education, but can also make predictions about potential decisions regarding the city\\'s financial future. Once completed, the program will allow residents to manipulate variables to see their eventual consequences, such as tax increases or extensions and proposed developments\"This really isn\\'t a budget, it is a forecast to see the intervention of these decisions,\" Williams said in an interview with The Davis Enterprise. \"What happens if we extend the sales tax? What does it do given the other numbers that are in?\"Project Toto enables users, whether it be a curious Davis resident, a concerned community member or a city leader, with the ability to project city finances with differing variables. The online program consists of the 400-page city budget for the 2016-2017 fiscal year, the previous budget, staff reports and consultant analyses. All of the documents are cited and accessible to the public within Project Toto.\"It\\'s a model that very easily lends itself to visual representation,\" Mayor Robb Davis said. \"You can see the impacts of decisions the council makes on the fiscal health of the city.\"Complementary to this program, there is also a more advanced version of the model with more in-depth analyses of the city\\'s finances. However, for an easy-to-understand, simplistic overview, Project Toto should be enough to help residents comprehend Davis finances. There is still more to do on the project, but its creators are hard at work trying to finalize it before the 2017-2018 fiscal year budget. \"It\\'s something I have been very much supportive of,\" Davis said. \"Transparency is not just something that I have been supportive of but something we have stated as a city council objective [ ] this fits very well with our attempt to inform the public of our challenges with our fiscal situation.\"',\n",
       " 'title': 'Project Toto aims to address questions regarding city finances',\n",
       " 'url': 'https://theaggie.org/2017/02/14/project-toto-aims-to-address-questions-regarding-city-finances/'}"
      ]
     },
     "execution_count": 10,
     "metadata": {},
     "output_type": "execute_result"
    }
   ],
   "source": [
    "url = \"https://theaggie.org/2017/02/14/project-toto-aims-to-address-questions-regarding-city-finances/\"\n",
    "fetch_text(url)"
   ]
  },
  {
   "cell_type": "markdown",
   "metadata": {},
   "source": [
    "__Exercise 1.3.__ Use your functions from exercises 1.1 and 1.2 to get a data frame of 60 [Campus News](https://theaggie.org/campus/) articles and a data frame of 60 [City News](https://theaggie.org/city/) articles. Add a column to each that indicates the category, then combine them into one big data frame.\n",
    "\n",
    "The \"text\" column of this data frame will be your corpus for natural language processing in exercise 1.4."
   ]
  },
  {
   "cell_type": "code",
   "execution_count": 194,
   "metadata": {
    "collapsed": false
   },
   "outputs": [
    {
     "data": {
      "text/html": [
       "<div>\n",
       "<table border=\"1\" class=\"dataframe\">\n",
       "  <thead>\n",
       "    <tr style=\"text-align: right;\">\n",
       "      <th></th>\n",
       "      <th>author</th>\n",
       "      <th>text</th>\n",
       "      <th>title</th>\n",
       "      <th>url</th>\n",
       "      <th>category</th>\n",
       "    </tr>\n",
       "  </thead>\n",
       "  <tbody>\n",
       "    <tr>\n",
       "      <th>0</th>\n",
       "      <td>Written by: Kaelyn Tuermer-Lee — city@theaggie...</td>\n",
       "      <td>Local Whole Foods closes Feb. 12After five yea...</td>\n",
       "      <td>Davis’ Whole Foods Market shuts down</td>\n",
       "      <td>https://theaggie.org/2017/02/23/davis-whole-fo...</td>\n",
       "      <td>City News</td>\n",
       "    </tr>\n",
       "    <tr>\n",
       "      <th>1</th>\n",
       "      <td>Written By: Anya Rehon — city@theaggie.org</td>\n",
       "      <td>Demonstrations take place at hundreds of Plann...</td>\n",
       "      <td>Protest against Planned Parenthood in Woodland...</td>\n",
       "      <td>https://theaggie.org/2017/02/23/protest-agains...</td>\n",
       "      <td>City News</td>\n",
       "    </tr>\n",
       "    <tr>\n",
       "      <th>2</th>\n",
       "      <td>Written By: Bianca Antunez — city@theaggie.org</td>\n",
       "      <td>California Redevelopment Agencies require Davi...</td>\n",
       "      <td>Davis’s Historic City Hall building to be put ...</td>\n",
       "      <td>https://theaggie.org/2017/02/23/daviss-histori...</td>\n",
       "      <td>City News</td>\n",
       "    </tr>\n",
       "    <tr>\n",
       "      <th>3</th>\n",
       "      <td>Written by: Caitlyn Sampley — city@theaggie.org</td>\n",
       "      <td>Davis residents show solidarity in wake of tra...</td>\n",
       "      <td>Davis stands with Muslim residents</td>\n",
       "      <td>https://theaggie.org/2017/02/21/davis-stands-w...</td>\n",
       "      <td>City News</td>\n",
       "    </tr>\n",
       "    <tr>\n",
       "      <th>4</th>\n",
       "      <td>Written By: Anya Rehon — city@theaggie.org</td>\n",
       "      <td>CalRecycle donates $197,851The City of Davis w...</td>\n",
       "      <td>City of Davis awarded funds for new recycling ...</td>\n",
       "      <td>https://theaggie.org/2017/02/20/city-of-davis-...</td>\n",
       "      <td>City News</td>\n",
       "    </tr>\n",
       "    <tr>\n",
       "      <th>5</th>\n",
       "      <td>Written by: Sam Solomon — city@theaggie.org</td>\n",
       "      <td>The world is a weird placeFeb. 6\"Chronic phone...</td>\n",
       "      <td>Police Logs</td>\n",
       "      <td>https://theaggie.org/2017/02/19/police-logs-12/</td>\n",
       "      <td>City News</td>\n",
       "    </tr>\n",
       "    <tr>\n",
       "      <th>6</th>\n",
       "      <td>Written by: Raul Castellanos Jr — city@theaggi...</td>\n",
       "      <td>Mayor Robb Davis reaffirms that the City of Da...</td>\n",
       "      <td>City of Davis to retain sanctuary city status</td>\n",
       "      <td>https://theaggie.org/2017/02/16/city-of-davis-...</td>\n",
       "      <td>City News</td>\n",
       "    </tr>\n",
       "    <tr>\n",
       "      <th>7</th>\n",
       "      <td>Written by: Samantha Solomon — city@theaggie.org</td>\n",
       "      <td>Davis resident Lauren Kirk-Coehlo arrested in ...</td>\n",
       "      <td>Suspect in Davis Islamic Center vandalism arre...</td>\n",
       "      <td>https://theaggie.org/2017/02/15/suspect-in-dav...</td>\n",
       "      <td>City News</td>\n",
       "    </tr>\n",
       "    <tr>\n",
       "      <th>8</th>\n",
       "      <td>Written By: Bianca Antunez  — city@theaggie.org</td>\n",
       "      <td>Davis residents create financial model to make...</td>\n",
       "      <td>Project Toto aims to address questions regardi...</td>\n",
       "      <td>https://theaggie.org/2017/02/14/project-toto-a...</td>\n",
       "      <td>City News</td>\n",
       "    </tr>\n",
       "    <tr>\n",
       "      <th>9</th>\n",
       "      <td>Written by: Kaelyn Tuermer-Lee — city@theaggie...</td>\n",
       "      <td>Something smells fishyJan. 29 \"Loud music or T...</td>\n",
       "      <td>Police Logs</td>\n",
       "      <td>https://theaggie.org/2017/02/13/police-logs-11/</td>\n",
       "      <td>City News</td>\n",
       "    </tr>\n",
       "    <tr>\n",
       "      <th>10</th>\n",
       "      <td>Written By: Dianna Rivera — city@theaggie.org</td>\n",
       "      <td>Davis Cemetery District hosts fundraiser with ...</td>\n",
       "      <td>News in Brief: A Valentine’s Day for everybody</td>\n",
       "      <td>https://theaggie.org/2017/02/12/news-in-brief-...</td>\n",
       "      <td>City News</td>\n",
       "    </tr>\n",
       "    <tr>\n",
       "      <th>11</th>\n",
       "      <td>Written by: Kaelyn Tuermer-Lee — city@theaggie...</td>\n",
       "      <td>Davis Sunrise Rotary Club grant benefits Alzhe...</td>\n",
       "      <td>The musical train to memory lane</td>\n",
       "      <td>https://theaggie.org/2017/02/06/the-musical-tr...</td>\n",
       "      <td>City News</td>\n",
       "    </tr>\n",
       "    <tr>\n",
       "      <th>12</th>\n",
       "      <td>Written by: Kaelyn Tuermer-Lee — city@theaggie...</td>\n",
       "      <td>False alarm, false alarmJan. 22\"Female was run...</td>\n",
       "      <td>Police Logs</td>\n",
       "      <td>https://theaggie.org/2017/02/05/police-logs-10/</td>\n",
       "      <td>City News</td>\n",
       "    </tr>\n",
       "    <tr>\n",
       "      <th>13</th>\n",
       "      <td>Written By: Bianca Antunez — city@theaggie.org</td>\n",
       "      <td>Burrowing Owl Preservation Society sues City o...</td>\n",
       "      <td>Davis owls face eviction at Marriott Residence...</td>\n",
       "      <td>https://theaggie.org/2017/02/05/davis-owls-fac...</td>\n",
       "      <td>City News</td>\n",
       "    </tr>\n",
       "    <tr>\n",
       "      <th>14</th>\n",
       "      <td>Written By: Dianna Rivera – city@theaggie.org</td>\n",
       "      <td>The City of Davis hosts festivities in honor o...</td>\n",
       "      <td>Davis Celebrates MLK Day</td>\n",
       "      <td>https://theaggie.org/2017/02/02/davis-celebrat...</td>\n",
       "      <td>City News</td>\n",
       "    </tr>\n",
       "    <tr>\n",
       "      <th>15</th>\n",
       "      <td>Written by: Raul Castellanos Jr — city@theaggi...</td>\n",
       "      <td>Douglas L. Waterman publishes 'It Only Hurts W...</td>\n",
       "      <td>Local author, cyclist rides 2,300 miles</td>\n",
       "      <td>https://theaggie.org/2017/02/02/local-author-c...</td>\n",
       "      <td>City News</td>\n",
       "    </tr>\n",
       "    <tr>\n",
       "      <th>16</th>\n",
       "      <td>Written By: Bianca Antunez— city@theaggie.org</td>\n",
       "      <td>Davis gets a handle on panhandlingThe Davis Ci...</td>\n",
       "      <td>City leaders address panhandling issue in Davis</td>\n",
       "      <td>https://theaggie.org/2017/01/31/city-leaders-a...</td>\n",
       "      <td>City News</td>\n",
       "    </tr>\n",
       "    <tr>\n",
       "      <th>17</th>\n",
       "      <td>Written by: Raul Castellanos Jr. — city@theagg...</td>\n",
       "      <td>Local groups meet every week to provide practi...</td>\n",
       "      <td>Toastmasters help members conquer fear of publ...</td>\n",
       "      <td>https://theaggie.org/2017/01/30/toastmasters-h...</td>\n",
       "      <td>City News</td>\n",
       "    </tr>\n",
       "    <tr>\n",
       "      <th>18</th>\n",
       "      <td>Written by: Kaelyn Tuermer-Lee — city@theaggie...</td>\n",
       "      <td>ERIC FREDERICKS [CC BY-SA 2.0] / FLICKRA resur...</td>\n",
       "      <td>Sacramento’s new public transportation</td>\n",
       "      <td>https://theaggie.org/2017/01/30/sacramentos-ne...</td>\n",
       "      <td>City News</td>\n",
       "    </tr>\n",
       "    <tr>\n",
       "      <th>19</th>\n",
       "      <td>Written by: Kaelyn Tuermer-Lee — city@theaggie...</td>\n",
       "      <td>The Ukulele Kids Club donates instruments to U...</td>\n",
       "      <td>A symphony to children’s ears</td>\n",
       "      <td>https://theaggie.org/2017/01/29/a-symphony-to-...</td>\n",
       "      <td>City News</td>\n",
       "    </tr>\n",
       "    <tr>\n",
       "      <th>20</th>\n",
       "      <td>Written By: Anya Rehon — city@theaggie.org</td>\n",
       "      <td>Recent report finds that many other California...</td>\n",
       "      <td>Yolo County’s poverty rate higher than before ...</td>\n",
       "      <td>https://theaggie.org/2017/01/29/yolo-countys-p...</td>\n",
       "      <td>City News</td>\n",
       "    </tr>\n",
       "    <tr>\n",
       "      <th>21</th>\n",
       "      <td>Written By: Andie Joldersma — city@theaggie.org</td>\n",
       "      <td>Thriving Pink offers free yoga sessions for ca...</td>\n",
       "      <td>Healing the mind, body and soul</td>\n",
       "      <td>https://theaggie.org/2017/01/26/healing-the-mi...</td>\n",
       "      <td>City News</td>\n",
       "    </tr>\n",
       "    <tr>\n",
       "      <th>22</th>\n",
       "      <td>Written by: Sam Solomon — city@theaggie.org</td>\n",
       "      <td>Slim Jims and beer cansJan. 15\"Son is making h...</td>\n",
       "      <td>Police Logs</td>\n",
       "      <td>https://theaggie.org/2017/01/26/police-logs-9/</td>\n",
       "      <td>City News</td>\n",
       "    </tr>\n",
       "    <tr>\n",
       "      <th>23</th>\n",
       "      <td>Written By: Anya Rehon — city@theaggie.org</td>\n",
       "      <td>More than 600 women's marches held throughout ...</td>\n",
       "      <td>Thousands gather at Sacramento Capitol buildin...</td>\n",
       "      <td>https://theaggie.org/2017/01/26/thousands-gath...</td>\n",
       "      <td>City News</td>\n",
       "    </tr>\n",
       "    <tr>\n",
       "      <th>24</th>\n",
       "      <td>Written by: Samantha Solomon — city@theaggie.org</td>\n",
       "      <td>Local Masjid had broken windows, slices of bac...</td>\n",
       "      <td>Islamic Center of Davis victim of hate crime</td>\n",
       "      <td>https://theaggie.org/2017/01/25/islamic-center...</td>\n",
       "      <td>City News</td>\n",
       "    </tr>\n",
       "    <tr>\n",
       "      <th>25</th>\n",
       "      <td>Written By: Bianca Antunez  — city@theaggie.org</td>\n",
       "      <td>New, modern laundromat spreads love, laundry a...</td>\n",
       "      <td>Love Laundry accommodates student schedules wi...</td>\n",
       "      <td>https://theaggie.org/2017/01/24/love-laundry-a...</td>\n",
       "      <td>City News</td>\n",
       "    </tr>\n",
       "    <tr>\n",
       "      <th>26</th>\n",
       "      <td>Written by: Raul Castellanos Jr. — city@theagg...</td>\n",
       "      <td>Farmer advocacy organization will honor Hering...</td>\n",
       "      <td>Yolo County Farm Bureau to honor Local Winery</td>\n",
       "      <td>https://theaggie.org/2017/01/23/yolo-county-fa...</td>\n",
       "      <td>City News</td>\n",
       "    </tr>\n",
       "    <tr>\n",
       "      <th>27</th>\n",
       "      <td>Written By: Anya Rehon – city@theaggie.org</td>\n",
       "      <td>UC Davis researchers receive funding for salmo...</td>\n",
       "      <td>Chinook salmon spawning in record numbers in P...</td>\n",
       "      <td>https://theaggie.org/2017/01/22/chinook-salmon...</td>\n",
       "      <td>City News</td>\n",
       "    </tr>\n",
       "    <tr>\n",
       "      <th>28</th>\n",
       "      <td>Written by: Andie Joldersma — city@theaggie.org</td>\n",
       "      <td>Grant from Sutter Health supports Davis Pathwa...</td>\n",
       "      <td>Helping the homeless</td>\n",
       "      <td>https://theaggie.org/2017/01/20/helping-the-ho...</td>\n",
       "      <td>City News</td>\n",
       "    </tr>\n",
       "    <tr>\n",
       "      <th>29</th>\n",
       "      <td>Written By: Sam Solomon — city@theaggie.org</td>\n",
       "      <td>From drunkards to eavesdroppers, Davis residen...</td>\n",
       "      <td>Police Logs</td>\n",
       "      <td>https://theaggie.org/2017/01/20/police-logs-8/</td>\n",
       "      <td>City News</td>\n",
       "    </tr>\n",
       "    <tr>\n",
       "      <th>...</th>\n",
       "      <td>...</td>\n",
       "      <td>...</td>\n",
       "      <td>...</td>\n",
       "      <td>...</td>\n",
       "      <td>...</td>\n",
       "    </tr>\n",
       "    <tr>\n",
       "      <th>90</th>\n",
       "      <td>Written by: Jeanna Totah — campus@theaggie.org</td>\n",
       "      <td>The second ASUCD Senate meeting of the new yea...</td>\n",
       "      <td>Last week in Senate</td>\n",
       "      <td>https://theaggie.org/2017/02/02/last-week-in-s...</td>\n",
       "      <td>Campus News</td>\n",
       "    </tr>\n",
       "    <tr>\n",
       "      <th>91</th>\n",
       "      <td>Written by: Demi Caceres — campus@theaggie.org</td>\n",
       "      <td>Action Jackson known for quality breeding, ext...</td>\n",
       "      <td>Action Jackson — famous breeding donkey — dies...</td>\n",
       "      <td>https://theaggie.org/2017/02/02/action-jackson...</td>\n",
       "      <td>Campus News</td>\n",
       "    </tr>\n",
       "    <tr>\n",
       "      <th>92</th>\n",
       "      <td>Written by: Alyssa Vandenberg  — campus@theagg...</td>\n",
       "      <td>Interim senator to be appointedOn Jan. 19, ASU...</td>\n",
       "      <td>ASUCD Senator Sam Park resigns</td>\n",
       "      <td>https://theaggie.org/2017/02/02/asucd-senator-...</td>\n",
       "      <td>Campus News</td>\n",
       "    </tr>\n",
       "    <tr>\n",
       "      <th>93</th>\n",
       "      <td>Written by: Demi Caceres — campus@theaggie.org</td>\n",
       "      <td>Huttle helps students receive career advice fr...</td>\n",
       "      <td>UC Davis graduate creates online website to co...</td>\n",
       "      <td>https://theaggie.org/2017/01/31/uc-davis-gradu...</td>\n",
       "      <td>Campus News</td>\n",
       "    </tr>\n",
       "    <tr>\n",
       "      <th>94</th>\n",
       "      <td>Written by: Jeanna Totah — campus@theaggie.org</td>\n",
       "      <td>Campus winery aims to remain environmentally s...</td>\n",
       "      <td>UC Davis plans to bottle student wine for $80</td>\n",
       "      <td>https://theaggie.org/2017/01/30/uc-davis-plans...</td>\n",
       "      <td>Campus News</td>\n",
       "    </tr>\n",
       "    <tr>\n",
       "      <th>95</th>\n",
       "      <td>Written by: Jayashri Padmanabhan — campus@thea...</td>\n",
       "      <td>Conference aims to destigmatize mental health,...</td>\n",
       "      <td>UC Davis to host first ever mental health conf...</td>\n",
       "      <td>https://theaggie.org/2017/01/30/uc-davis-to-ho...</td>\n",
       "      <td>Campus News</td>\n",
       "    </tr>\n",
       "    <tr>\n",
       "      <th>96</th>\n",
       "      <td>Written by: Ivan Valenzuela — campus@theaggie.org</td>\n",
       "      <td>AMCP award recognizes excellence in marketing,...</td>\n",
       "      <td>UC Davis Sexual Violence Awareness and Educati...</td>\n",
       "      <td>https://theaggie.org/2017/01/29/uc-davis-sexua...</td>\n",
       "      <td>Campus News</td>\n",
       "    </tr>\n",
       "    <tr>\n",
       "      <th>97</th>\n",
       "      <td>Written by: Yvonne Leong — campus@theaggie.org</td>\n",
       "      <td>Awards geared toward students of color, studen...</td>\n",
       "      <td>UC Davis study abroad secures $22,000 in grant...</td>\n",
       "      <td>https://theaggie.org/2017/01/29/uc-davis-study...</td>\n",
       "      <td>Campus News</td>\n",
       "    </tr>\n",
       "    <tr>\n",
       "      <th>98</th>\n",
       "      <td>Written by: Alyssa Vandenberg  — campus@theagg...</td>\n",
       "      <td>Tuition to increase by $336On Thursday, Jan. 2...</td>\n",
       "      <td>UC Regents vote to raise tuition for UC campuses</td>\n",
       "      <td>https://theaggie.org/2017/01/27/uc-regents-vot...</td>\n",
       "      <td>Campus News</td>\n",
       "    </tr>\n",
       "    <tr>\n",
       "      <th>99</th>\n",
       "      <td>Written by: Aaron Liss — campus@theaggie.org</td>\n",
       "      <td>Kevin Samy of Forbes' 2016 \"30 under 30\" list ...</td>\n",
       "      <td>Former White House speechwriter comes to UC Davis</td>\n",
       "      <td>https://theaggie.org/2017/01/26/former-white-h...</td>\n",
       "      <td>Campus News</td>\n",
       "    </tr>\n",
       "    <tr>\n",
       "      <th>100</th>\n",
       "      <td>Written by: Jayashri Padmanabhan — campus@thea...</td>\n",
       "      <td>ASUCD held its first senate meeting of Winter ...</td>\n",
       "      <td>Last week in Senate</td>\n",
       "      <td>https://theaggie.org/2017/01/26/last-week-in-s...</td>\n",
       "      <td>Campus News</td>\n",
       "    </tr>\n",
       "    <tr>\n",
       "      <th>101</th>\n",
       "      <td>Written by: Kenton Goldsby — campus@theaggie.org</td>\n",
       "      <td>Police chief provides information about safety...</td>\n",
       "      <td>Davis area receives nearly eight inches of rai...</td>\n",
       "      <td>https://theaggie.org/2017/01/26/davis-area-rec...</td>\n",
       "      <td>Campus News</td>\n",
       "    </tr>\n",
       "    <tr>\n",
       "      <th>102</th>\n",
       "      <td>Written by: Yvonne Leong — campus@theaggie.org</td>\n",
       "      <td>Protesters demand that Trump, UC system suppor...</td>\n",
       "      <td>Students walk out of classes to protest Trump’...</td>\n",
       "      <td>https://theaggie.org/2017/01/25/students-walk-...</td>\n",
       "      <td>Campus News</td>\n",
       "    </tr>\n",
       "    <tr>\n",
       "      <th>103</th>\n",
       "      <td>Written by: Aaron Liss — campus@theaggie.org</td>\n",
       "      <td>GreenMetric names UC Davis the greenest univer...</td>\n",
       "      <td>UC Davis ranked most sustainable university in...</td>\n",
       "      <td>https://theaggie.org/2017/01/24/uc-davis-ranke...</td>\n",
       "      <td>Campus News</td>\n",
       "    </tr>\n",
       "    <tr>\n",
       "      <th>104</th>\n",
       "      <td>Written by: Demi Caceres — campus@theaggie.org</td>\n",
       "      <td>UC Davis-led institute one of five national tr...</td>\n",
       "      <td>US Department of Transportation awards $14 mil...</td>\n",
       "      <td>https://theaggie.org/2017/01/24/us-department-...</td>\n",
       "      <td>Campus News</td>\n",
       "    </tr>\n",
       "    <tr>\n",
       "      <th>105</th>\n",
       "      <td>Written by: Lindsay Floyd — campus@theaggie.org</td>\n",
       "      <td>Former plans paused in light of Katehi's resig...</td>\n",
       "      <td>Napolitano to reinforce tentative plans to exp...</td>\n",
       "      <td>https://theaggie.org/2017/01/23/napolitano-to-...</td>\n",
       "      <td>Campus News</td>\n",
       "    </tr>\n",
       "    <tr>\n",
       "      <th>106</th>\n",
       "      <td>Written by: Ivan Valenzuela — campus@theaggie.org</td>\n",
       "      <td>Feminist Research Institute nominates Linda Ka...</td>\n",
       "      <td>Former chancellor turns down feminist leadersh...</td>\n",
       "      <td>https://theaggie.org/2017/01/23/former-chancel...</td>\n",
       "      <td>Campus News</td>\n",
       "    </tr>\n",
       "    <tr>\n",
       "      <th>107</th>\n",
       "      <td>Written by: Yvonne Leong — campus@theaggie.org</td>\n",
       "      <td>The first endowed brewer will be Joe WilliamsS...</td>\n",
       "      <td>Sierra Nevada Brewing owners gift $2 million t...</td>\n",
       "      <td>https://theaggie.org/2017/01/22/sierra-nevada-...</td>\n",
       "      <td>Campus News</td>\n",
       "    </tr>\n",
       "    <tr>\n",
       "      <th>108</th>\n",
       "      <td>Written by: Jayashri Padmanabhan — campus@thea...</td>\n",
       "      <td>250 institutions ask new administration to add...</td>\n",
       "      <td>Interim Chancellor Hexter, UC leaders sign let...</td>\n",
       "      <td>https://theaggie.org/2017/01/22/interim-chance...</td>\n",
       "      <td>Campus News</td>\n",
       "    </tr>\n",
       "    <tr>\n",
       "      <th>109</th>\n",
       "      <td>Written by: Jeanna Totah — campus@theaggie.org</td>\n",
       "      <td>Higher education leaders stand by undocumented...</td>\n",
       "      <td>California schools press Donald Trump to conti...</td>\n",
       "      <td>https://theaggie.org/2017/01/22/california-sch...</td>\n",
       "      <td>Campus News</td>\n",
       "    </tr>\n",
       "    <tr>\n",
       "      <th>110</th>\n",
       "      <td>Written by: Aaron Liss — campus@theaggie.org</td>\n",
       "      <td>UC Student Workers Union hosts walkout, teach-...</td>\n",
       "      <td>UC-wide walkout, teach-ins on Trump’s inaugura...</td>\n",
       "      <td>https://theaggie.org/2017/01/22/uc-wide-walkou...</td>\n",
       "      <td>Campus News</td>\n",
       "    </tr>\n",
       "    <tr>\n",
       "      <th>111</th>\n",
       "      <td>Written By: Lindsay Floyd — campus@theaggie.org</td>\n",
       "      <td>Some activists in favor of Yiannopoulos, other...</td>\n",
       "      <td>Protests erupt at Milo Yiannopoulos event</td>\n",
       "      <td>https://theaggie.org/2017/01/20/protests-erupt...</td>\n",
       "      <td>Campus News</td>\n",
       "    </tr>\n",
       "    <tr>\n",
       "      <th>112</th>\n",
       "      <td>Written by: Kenton Goldsby — campus@theaggie.org</td>\n",
       "      <td>Speakers CeCe McDonald and Franchesca Ramsey k...</td>\n",
       "      <td>Student organizers host “Change/The Conversati...</td>\n",
       "      <td>https://theaggie.org/2017/01/20/student-organi...</td>\n",
       "      <td>Campus News</td>\n",
       "    </tr>\n",
       "    <tr>\n",
       "      <th>113</th>\n",
       "      <td>Written by: Lindsay Floyd — campus@theaggie.org</td>\n",
       "      <td>Napolitano expected to leave hospital soon, ma...</td>\n",
       "      <td>UC President Janet Napolitano hospitalized</td>\n",
       "      <td>https://theaggie.org/2017/01/19/uc-president-j...</td>\n",
       "      <td>Campus News</td>\n",
       "    </tr>\n",
       "    <tr>\n",
       "      <th>114</th>\n",
       "      <td>Written by: Yvonne Leong — campus@theaggie.org</td>\n",
       "      <td>Former interim chief of nursing and patient ca...</td>\n",
       "      <td>UC Davis appoints new chief of nursing and pat...</td>\n",
       "      <td>https://theaggie.org/2017/01/17/uc-davis-appoi...</td>\n",
       "      <td>Campus News</td>\n",
       "    </tr>\n",
       "    <tr>\n",
       "      <th>115</th>\n",
       "      <td>Written by: Demi Caceres — campus@theaggie.org</td>\n",
       "      <td>UC Board of Regents creates position of studen...</td>\n",
       "      <td>Student regent recruitment for the 2018-2019 s...</td>\n",
       "      <td>https://theaggie.org/2017/01/16/student-regent...</td>\n",
       "      <td>Campus News</td>\n",
       "    </tr>\n",
       "    <tr>\n",
       "      <th>116</th>\n",
       "      <td>Written by: Aaron Liss — campus@theaggie.org</td>\n",
       "      <td>LRDP update preserves Russell Boulevard fields...</td>\n",
       "      <td>Russell Boulevard intramural fields withdrawn ...</td>\n",
       "      <td>https://theaggie.org/2017/01/15/russell-boulev...</td>\n",
       "      <td>Campus News</td>\n",
       "    </tr>\n",
       "    <tr>\n",
       "      <th>117</th>\n",
       "      <td>Written by: Jeanna Totah — campus@theaggie.org</td>\n",
       "      <td>Increase in applications brings more diverse p...</td>\n",
       "      <td>UCs receive record-breaking number of applicants</td>\n",
       "      <td>https://theaggie.org/2017/01/15/ucs-receive-re...</td>\n",
       "      <td>Campus News</td>\n",
       "    </tr>\n",
       "    <tr>\n",
       "      <th>118</th>\n",
       "      <td>Written by: Alyssa Vandenberg  — campus@theagg...</td>\n",
       "      <td>Yiannopoulos explains event's cancellation, ma...</td>\n",
       "      <td>Davis College Republicans club leads protest a...</td>\n",
       "      <td>https://theaggie.org/2017/01/14/davis-college-...</td>\n",
       "      <td>Campus News</td>\n",
       "    </tr>\n",
       "    <tr>\n",
       "      <th>119</th>\n",
       "      <td>Written by: Alyssa Vandenberg  — campus@theagg...</td>\n",
       "      <td>Protests against far-right conservative Milo Y...</td>\n",
       "      <td>BREAKING NEWS: Milo Yiannopoulos event cancelled</td>\n",
       "      <td>https://theaggie.org/2017/01/13/breaking-news-...</td>\n",
       "      <td>Campus News</td>\n",
       "    </tr>\n",
       "  </tbody>\n",
       "</table>\n",
       "<p>120 rows × 5 columns</p>\n",
       "</div>"
      ],
      "text/plain": [
       "                                                author  \\\n",
       "0    Written by: Kaelyn Tuermer-Lee — city@theaggie...   \n",
       "1           Written By: Anya Rehon — city@theaggie.org   \n",
       "2       Written By: Bianca Antunez — city@theaggie.org   \n",
       "3      Written by: Caitlyn Sampley — city@theaggie.org   \n",
       "4           Written By: Anya Rehon — city@theaggie.org   \n",
       "5          Written by: Sam Solomon — city@theaggie.org   \n",
       "6    Written by: Raul Castellanos Jr — city@theaggi...   \n",
       "7     Written by: Samantha Solomon — city@theaggie.org   \n",
       "8      Written By: Bianca Antunez  — city@theaggie.org   \n",
       "9    Written by: Kaelyn Tuermer-Lee — city@theaggie...   \n",
       "10       Written By: Dianna Rivera — city@theaggie.org   \n",
       "11   Written by: Kaelyn Tuermer-Lee — city@theaggie...   \n",
       "12   Written by: Kaelyn Tuermer-Lee — city@theaggie...   \n",
       "13      Written By: Bianca Antunez — city@theaggie.org   \n",
       "14       Written By: Dianna Rivera – city@theaggie.org   \n",
       "15   Written by: Raul Castellanos Jr — city@theaggi...   \n",
       "16       Written By: Bianca Antunez— city@theaggie.org   \n",
       "17   Written by: Raul Castellanos Jr. — city@theagg...   \n",
       "18   Written by: Kaelyn Tuermer-Lee — city@theaggie...   \n",
       "19   Written by: Kaelyn Tuermer-Lee — city@theaggie...   \n",
       "20          Written By: Anya Rehon — city@theaggie.org   \n",
       "21     Written By: Andie Joldersma — city@theaggie.org   \n",
       "22         Written by: Sam Solomon — city@theaggie.org   \n",
       "23          Written By: Anya Rehon — city@theaggie.org   \n",
       "24    Written by: Samantha Solomon — city@theaggie.org   \n",
       "25     Written By: Bianca Antunez  — city@theaggie.org   \n",
       "26   Written by: Raul Castellanos Jr. — city@theagg...   \n",
       "27         Written By: Anya Rehon – city@theaggie.org    \n",
       "28     Written by: Andie Joldersma — city@theaggie.org   \n",
       "29         Written By: Sam Solomon — city@theaggie.org   \n",
       "..                                                 ...   \n",
       "90      Written by: Jeanna Totah — campus@theaggie.org   \n",
       "91      Written by: Demi Caceres — campus@theaggie.org   \n",
       "92   Written by: Alyssa Vandenberg  — campus@theagg...   \n",
       "93      Written by: Demi Caceres — campus@theaggie.org   \n",
       "94      Written by: Jeanna Totah — campus@theaggie.org   \n",
       "95   Written by: Jayashri Padmanabhan — campus@thea...   \n",
       "96   Written by: Ivan Valenzuela — campus@theaggie.org   \n",
       "97      Written by: Yvonne Leong — campus@theaggie.org   \n",
       "98   Written by: Alyssa Vandenberg  — campus@theagg...   \n",
       "99        Written by: Aaron Liss — campus@theaggie.org   \n",
       "100  Written by: Jayashri Padmanabhan — campus@thea...   \n",
       "101   Written by: Kenton Goldsby — campus@theaggie.org   \n",
       "102     Written by: Yvonne Leong — campus@theaggie.org   \n",
       "103       Written by: Aaron Liss — campus@theaggie.org   \n",
       "104     Written by: Demi Caceres — campus@theaggie.org   \n",
       "105    Written by: Lindsay Floyd — campus@theaggie.org   \n",
       "106  Written by: Ivan Valenzuela — campus@theaggie.org   \n",
       "107     Written by: Yvonne Leong — campus@theaggie.org   \n",
       "108  Written by: Jayashri Padmanabhan — campus@thea...   \n",
       "109     Written by: Jeanna Totah — campus@theaggie.org   \n",
       "110      Written by: Aaron Liss — campus@theaggie.org    \n",
       "111    Written By: Lindsay Floyd — campus@theaggie.org   \n",
       "112   Written by: Kenton Goldsby — campus@theaggie.org   \n",
       "113    Written by: Lindsay Floyd — campus@theaggie.org   \n",
       "114     Written by: Yvonne Leong — campus@theaggie.org   \n",
       "115     Written by: Demi Caceres — campus@theaggie.org   \n",
       "116       Written by: Aaron Liss — campus@theaggie.org   \n",
       "117     Written by: Jeanna Totah — campus@theaggie.org   \n",
       "118  Written by: Alyssa Vandenberg  — campus@theagg...   \n",
       "119  Written by: Alyssa Vandenberg  — campus@theagg...   \n",
       "\n",
       "                                                  text  \\\n",
       "0    Local Whole Foods closes Feb. 12After five yea...   \n",
       "1    Demonstrations take place at hundreds of Plann...   \n",
       "2    California Redevelopment Agencies require Davi...   \n",
       "3    Davis residents show solidarity in wake of tra...   \n",
       "4    CalRecycle donates $197,851The City of Davis w...   \n",
       "5    The world is a weird placeFeb. 6\"Chronic phone...   \n",
       "6    Mayor Robb Davis reaffirms that the City of Da...   \n",
       "7    Davis resident Lauren Kirk-Coehlo arrested in ...   \n",
       "8    Davis residents create financial model to make...   \n",
       "9    Something smells fishyJan. 29 \"Loud music or T...   \n",
       "10   Davis Cemetery District hosts fundraiser with ...   \n",
       "11   Davis Sunrise Rotary Club grant benefits Alzhe...   \n",
       "12   False alarm, false alarmJan. 22\"Female was run...   \n",
       "13   Burrowing Owl Preservation Society sues City o...   \n",
       "14   The City of Davis hosts festivities in honor o...   \n",
       "15   Douglas L. Waterman publishes 'It Only Hurts W...   \n",
       "16   Davis gets a handle on panhandlingThe Davis Ci...   \n",
       "17   Local groups meet every week to provide practi...   \n",
       "18   ERIC FREDERICKS [CC BY-SA 2.0] / FLICKRA resur...   \n",
       "19   The Ukulele Kids Club donates instruments to U...   \n",
       "20   Recent report finds that many other California...   \n",
       "21   Thriving Pink offers free yoga sessions for ca...   \n",
       "22   Slim Jims and beer cansJan. 15\"Son is making h...   \n",
       "23   More than 600 women's marches held throughout ...   \n",
       "24   Local Masjid had broken windows, slices of bac...   \n",
       "25   New, modern laundromat spreads love, laundry a...   \n",
       "26   Farmer advocacy organization will honor Hering...   \n",
       "27   UC Davis researchers receive funding for salmo...   \n",
       "28   Grant from Sutter Health supports Davis Pathwa...   \n",
       "29   From drunkards to eavesdroppers, Davis residen...   \n",
       "..                                                 ...   \n",
       "90   The second ASUCD Senate meeting of the new yea...   \n",
       "91   Action Jackson known for quality breeding, ext...   \n",
       "92   Interim senator to be appointedOn Jan. 19, ASU...   \n",
       "93   Huttle helps students receive career advice fr...   \n",
       "94   Campus winery aims to remain environmentally s...   \n",
       "95   Conference aims to destigmatize mental health,...   \n",
       "96   AMCP award recognizes excellence in marketing,...   \n",
       "97   Awards geared toward students of color, studen...   \n",
       "98   Tuition to increase by $336On Thursday, Jan. 2...   \n",
       "99   Kevin Samy of Forbes' 2016 \"30 under 30\" list ...   \n",
       "100  ASUCD held its first senate meeting of Winter ...   \n",
       "101  Police chief provides information about safety...   \n",
       "102  Protesters demand that Trump, UC system suppor...   \n",
       "103  GreenMetric names UC Davis the greenest univer...   \n",
       "104  UC Davis-led institute one of five national tr...   \n",
       "105  Former plans paused in light of Katehi's resig...   \n",
       "106  Feminist Research Institute nominates Linda Ka...   \n",
       "107  The first endowed brewer will be Joe WilliamsS...   \n",
       "108  250 institutions ask new administration to add...   \n",
       "109  Higher education leaders stand by undocumented...   \n",
       "110  UC Student Workers Union hosts walkout, teach-...   \n",
       "111  Some activists in favor of Yiannopoulos, other...   \n",
       "112  Speakers CeCe McDonald and Franchesca Ramsey k...   \n",
       "113  Napolitano expected to leave hospital soon, ma...   \n",
       "114  Former interim chief of nursing and patient ca...   \n",
       "115  UC Board of Regents creates position of studen...   \n",
       "116  LRDP update preserves Russell Boulevard fields...   \n",
       "117  Increase in applications brings more diverse p...   \n",
       "118  Yiannopoulos explains event's cancellation, ma...   \n",
       "119  Protests against far-right conservative Milo Y...   \n",
       "\n",
       "                                                 title  \\\n",
       "0                 Davis’ Whole Foods Market shuts down   \n",
       "1    Protest against Planned Parenthood in Woodland...   \n",
       "2    Davis’s Historic City Hall building to be put ...   \n",
       "3                   Davis stands with Muslim residents   \n",
       "4    City of Davis awarded funds for new recycling ...   \n",
       "5                                          Police Logs   \n",
       "6        City of Davis to retain sanctuary city status   \n",
       "7    Suspect in Davis Islamic Center vandalism arre...   \n",
       "8    Project Toto aims to address questions regardi...   \n",
       "9                                          Police Logs   \n",
       "10      News in Brief: A Valentine’s Day for everybody   \n",
       "11                    The musical train to memory lane   \n",
       "12                                         Police Logs   \n",
       "13   Davis owls face eviction at Marriott Residence...   \n",
       "14                            Davis Celebrates MLK Day   \n",
       "15             Local author, cyclist rides 2,300 miles   \n",
       "16     City leaders address panhandling issue in Davis   \n",
       "17   Toastmasters help members conquer fear of publ...   \n",
       "18              Sacramento’s new public transportation   \n",
       "19                       A symphony to children’s ears   \n",
       "20   Yolo County’s poverty rate higher than before ...   \n",
       "21                     Healing the mind, body and soul   \n",
       "22                                         Police Logs   \n",
       "23   Thousands gather at Sacramento Capitol buildin...   \n",
       "24        Islamic Center of Davis victim of hate crime   \n",
       "25   Love Laundry accommodates student schedules wi...   \n",
       "26       Yolo County Farm Bureau to honor Local Winery   \n",
       "27   Chinook salmon spawning in record numbers in P...   \n",
       "28                                Helping the homeless   \n",
       "29                                         Police Logs   \n",
       "..                                                 ...   \n",
       "90                                 Last week in Senate   \n",
       "91   Action Jackson — famous breeding donkey — dies...   \n",
       "92                      ASUCD Senator Sam Park resigns   \n",
       "93   UC Davis graduate creates online website to co...   \n",
       "94       UC Davis plans to bottle student wine for $80   \n",
       "95   UC Davis to host first ever mental health conf...   \n",
       "96   UC Davis Sexual Violence Awareness and Educati...   \n",
       "97   UC Davis study abroad secures $22,000 in grant...   \n",
       "98    UC Regents vote to raise tuition for UC campuses   \n",
       "99   Former White House speechwriter comes to UC Davis   \n",
       "100                                Last week in Senate   \n",
       "101  Davis area receives nearly eight inches of rai...   \n",
       "102  Students walk out of classes to protest Trump’...   \n",
       "103  UC Davis ranked most sustainable university in...   \n",
       "104  US Department of Transportation awards $14 mil...   \n",
       "105  Napolitano to reinforce tentative plans to exp...   \n",
       "106  Former chancellor turns down feminist leadersh...   \n",
       "107  Sierra Nevada Brewing owners gift $2 million t...   \n",
       "108  Interim Chancellor Hexter, UC leaders sign let...   \n",
       "109  California schools press Donald Trump to conti...   \n",
       "110  UC-wide walkout, teach-ins on Trump’s inaugura...   \n",
       "111          Protests erupt at Milo Yiannopoulos event   \n",
       "112  Student organizers host “Change/The Conversati...   \n",
       "113         UC President Janet Napolitano hospitalized   \n",
       "114  UC Davis appoints new chief of nursing and pat...   \n",
       "115  Student regent recruitment for the 2018-2019 s...   \n",
       "116  Russell Boulevard intramural fields withdrawn ...   \n",
       "117   UCs receive record-breaking number of applicants   \n",
       "118  Davis College Republicans club leads protest a...   \n",
       "119   BREAKING NEWS: Milo Yiannopoulos event cancelled   \n",
       "\n",
       "                                                   url     category  \n",
       "0    https://theaggie.org/2017/02/23/davis-whole-fo...    City News  \n",
       "1    https://theaggie.org/2017/02/23/protest-agains...    City News  \n",
       "2    https://theaggie.org/2017/02/23/daviss-histori...    City News  \n",
       "3    https://theaggie.org/2017/02/21/davis-stands-w...    City News  \n",
       "4    https://theaggie.org/2017/02/20/city-of-davis-...    City News  \n",
       "5      https://theaggie.org/2017/02/19/police-logs-12/    City News  \n",
       "6    https://theaggie.org/2017/02/16/city-of-davis-...    City News  \n",
       "7    https://theaggie.org/2017/02/15/suspect-in-dav...    City News  \n",
       "8    https://theaggie.org/2017/02/14/project-toto-a...    City News  \n",
       "9      https://theaggie.org/2017/02/13/police-logs-11/    City News  \n",
       "10   https://theaggie.org/2017/02/12/news-in-brief-...    City News  \n",
       "11   https://theaggie.org/2017/02/06/the-musical-tr...    City News  \n",
       "12     https://theaggie.org/2017/02/05/police-logs-10/    City News  \n",
       "13   https://theaggie.org/2017/02/05/davis-owls-fac...    City News  \n",
       "14   https://theaggie.org/2017/02/02/davis-celebrat...    City News  \n",
       "15   https://theaggie.org/2017/02/02/local-author-c...    City News  \n",
       "16   https://theaggie.org/2017/01/31/city-leaders-a...    City News  \n",
       "17   https://theaggie.org/2017/01/30/toastmasters-h...    City News  \n",
       "18   https://theaggie.org/2017/01/30/sacramentos-ne...    City News  \n",
       "19   https://theaggie.org/2017/01/29/a-symphony-to-...    City News  \n",
       "20   https://theaggie.org/2017/01/29/yolo-countys-p...    City News  \n",
       "21   https://theaggie.org/2017/01/26/healing-the-mi...    City News  \n",
       "22      https://theaggie.org/2017/01/26/police-logs-9/    City News  \n",
       "23   https://theaggie.org/2017/01/26/thousands-gath...    City News  \n",
       "24   https://theaggie.org/2017/01/25/islamic-center...    City News  \n",
       "25   https://theaggie.org/2017/01/24/love-laundry-a...    City News  \n",
       "26   https://theaggie.org/2017/01/23/yolo-county-fa...    City News  \n",
       "27   https://theaggie.org/2017/01/22/chinook-salmon...    City News  \n",
       "28   https://theaggie.org/2017/01/20/helping-the-ho...    City News  \n",
       "29      https://theaggie.org/2017/01/20/police-logs-8/    City News  \n",
       "..                                                 ...          ...  \n",
       "90   https://theaggie.org/2017/02/02/last-week-in-s...  Campus News  \n",
       "91   https://theaggie.org/2017/02/02/action-jackson...  Campus News  \n",
       "92   https://theaggie.org/2017/02/02/asucd-senator-...  Campus News  \n",
       "93   https://theaggie.org/2017/01/31/uc-davis-gradu...  Campus News  \n",
       "94   https://theaggie.org/2017/01/30/uc-davis-plans...  Campus News  \n",
       "95   https://theaggie.org/2017/01/30/uc-davis-to-ho...  Campus News  \n",
       "96   https://theaggie.org/2017/01/29/uc-davis-sexua...  Campus News  \n",
       "97   https://theaggie.org/2017/01/29/uc-davis-study...  Campus News  \n",
       "98   https://theaggie.org/2017/01/27/uc-regents-vot...  Campus News  \n",
       "99   https://theaggie.org/2017/01/26/former-white-h...  Campus News  \n",
       "100  https://theaggie.org/2017/01/26/last-week-in-s...  Campus News  \n",
       "101  https://theaggie.org/2017/01/26/davis-area-rec...  Campus News  \n",
       "102  https://theaggie.org/2017/01/25/students-walk-...  Campus News  \n",
       "103  https://theaggie.org/2017/01/24/uc-davis-ranke...  Campus News  \n",
       "104  https://theaggie.org/2017/01/24/us-department-...  Campus News  \n",
       "105  https://theaggie.org/2017/01/23/napolitano-to-...  Campus News  \n",
       "106  https://theaggie.org/2017/01/23/former-chancel...  Campus News  \n",
       "107  https://theaggie.org/2017/01/22/sierra-nevada-...  Campus News  \n",
       "108  https://theaggie.org/2017/01/22/interim-chance...  Campus News  \n",
       "109  https://theaggie.org/2017/01/22/california-sch...  Campus News  \n",
       "110  https://theaggie.org/2017/01/22/uc-wide-walkou...  Campus News  \n",
       "111  https://theaggie.org/2017/01/20/protests-erupt...  Campus News  \n",
       "112  https://theaggie.org/2017/01/20/student-organi...  Campus News  \n",
       "113  https://theaggie.org/2017/01/19/uc-president-j...  Campus News  \n",
       "114  https://theaggie.org/2017/01/17/uc-davis-appoi...  Campus News  \n",
       "115  https://theaggie.org/2017/01/16/student-regent...  Campus News  \n",
       "116  https://theaggie.org/2017/01/15/russell-boulev...  Campus News  \n",
       "117  https://theaggie.org/2017/01/15/ucs-receive-re...  Campus News  \n",
       "118  https://theaggie.org/2017/01/14/davis-college-...  Campus News  \n",
       "119  https://theaggie.org/2017/01/13/breaking-news-...  Campus News  \n",
       "\n",
       "[120 rows x 5 columns]"
      ]
     },
     "execution_count": 194,
     "metadata": {},
     "output_type": "execute_result"
    }
   ],
   "source": [
    "url_city = \"https://theaggie.org/city/\"\n",
    "url_campus = \"https://theaggie.org/campus/\"\n",
    "data_city, urls_city = final_list(url_city, 4)\n",
    "data_campus, urls_campus = final_list(url_campus, 4)\n",
    "article_city = pd.DataFrame([fetch_text(url) for url in urls_city])\n",
    "article_city[\"category\"] = \"City News\"\n",
    "article_campus = pd.DataFrame([fetch_text(url) for url in urls_campus])\n",
    "article_campus[\"category\"] = \"Campus News\"\n",
    "result = pd.concat([article_city,article_campus], ignore_index=True)\n",
    "result"
   ]
  },
  {
   "cell_type": "markdown",
   "metadata": {},
   "source": [
    "__Exercise 1.4.__ Use the Aggie corpus to answer the following questions. Use plots to support your analysis.\n",
    "\n",
    "* What topics does the Aggie cover the most? Do city articles typically cover different topics than campus articles?\n",
    "\n",
    "* What are the titles of the top 3 pairs of most similar articles? Examine each pair of articles. What words do they have in common?\n",
    "\n",
    "* Do you think this corpus is representative of the Aggie? Why or why not? What kinds of inference can this corpus support? Explain your reasoning.\n",
    "\n",
    "Hints:\n",
    "\n",
    "*   The [nltk book](http://www.nltk.org/book/) and [scikit-learn documentation](http://scikit-learn.org/stable/modules/feature_extraction.html#text-feature-extraction) may be helpful here.\n",
    "\n",
    "*   You can determine whether city articles are \"near\" campus articles from the similarity matrix or with k-nearest neighbors.\n",
    "\n",
    "*   If you want, you can use the [wordcloud](http://amueller.github.io/word_cloud/) package to plot a word cloud. To install the package, run\n",
    "    ```\n",
    "    conda install -c https://conda.anaconda.org/amueller wordcloud\n",
    "    ```\n",
    "    in a terminal. Word clouds look nice and are easy to read, but are less precise than bar plots."
   ]
  },
  {
   "cell_type": "code",
   "execution_count": 139,
   "metadata": {
    "collapsed": false
   },
   "outputs": [],
   "source": [
    "import numpy as np\n",
    "import nltk\n",
    "from nltk import corpus\n",
    "from nltk.stem.porter import PorterStemmer\n",
    "from sklearn.feature_extraction.text import TfidfVectorizer\n",
    "from sklearn.neighbors import NearestNeighbors\n",
    "from sklearn.metrics.pairwise import cosine_similarity\n",
    "from matplotlib import pyplot as plt\n",
    "from collections import Counter\n",
    "import seaborn as sns\n",
    "plt.style.use('ggplot')\n",
    "%matplotlib inline"
   ]
  },
  {
   "cell_type": "code",
   "execution_count": 75,
   "metadata": {
    "collapsed": true
   },
   "outputs": [],
   "source": [
    "stemmer = PorterStemmer().stem\n",
    "tokenize = nltk.word_tokenize\n",
    "\n",
    "def stem(tokens,stemmer = PorterStemmer().stem):\n",
    "    return [stemmer(w.lower()) for w in tokens] \n",
    "\n",
    "def lemmatize(text):\n",
    "    \"\"\"\n",
    "    Extract simple lemmas based on tokenization and stemming\n",
    "    Input: string\n",
    "    Output: list of strings (lemmata)\n",
    "    \"\"\"\n",
    "    s = re.sub(r'[^\\w\\s]','',text) #remove all punctuation\n",
    "    return stem(tokenize(s))"
   ]
  },
  {
   "cell_type": "code",
   "execution_count": 83,
   "metadata": {
    "collapsed": false
   },
   "outputs": [],
   "source": [
    "def tf(x):\n",
    "    \"\"\"\n",
    "    This fuction is to get tfs matrix\n",
    "    Input: list of string\n",
    "    Output: matrix\n",
    "    \"\"\"\n",
    "    vectorizer = TfidfVectorizer(tokenizer=lemmatize,stop_words=\"english\",smooth_idf=True,norm=None)\n",
    "    tfs = vectorizer.fit_transform(x)\n",
    "    return tfs"
   ]
  },
  {
   "cell_type": "markdown",
   "metadata": {},
   "source": [
    "### For the total data"
   ]
  },
  {
   "cell_type": "code",
   "execution_count": 129,
   "metadata": {
    "collapsed": false
   },
   "outputs": [],
   "source": [
    "tf1 = tf(result[\"text\"])\n",
    "index = [(tf1[i].toarray()).argsort()[0][-20:] for i in range(120)]\n",
    "keywords = [[vectorizer.get_feature_names()[i] for i in j] for j in index]"
   ]
  },
  {
   "cell_type": "code",
   "execution_count": 196,
   "metadata": {
    "collapsed": false
   },
   "outputs": [
    {
     "data": {
      "text/plain": [
       "[(u'davi', 36),\n",
       " (u'student', 32),\n",
       " (u'uc', 24),\n",
       " (u'wa', 20),\n",
       " (u'event', 13),\n",
       " (u'citi', 11),\n",
       " (u'asucd', 11),\n",
       " (u'senat', 11),\n",
       " (u'hi', 10),\n",
       " (u'protest', 9),\n",
       " (u'counti', 8),\n",
       " (u'said', 8),\n",
       " (u'support', 8),\n",
       " (u'program', 7),\n",
       " (u'famili', 7),\n",
       " (u'food', 7),\n",
       " (u'research', 7),\n",
       " (u'grant', 7),\n",
       " (u'yolo', 7),\n",
       " (u'state', 7)]"
      ]
     },
     "execution_count": 196,
     "metadata": {},
     "output_type": "execute_result"
    }
   ],
   "source": [
    "keywordframe = pd.DataFrame(keywords)\n",
    "f = lambda x,y: x+y\n",
    "rawkeywords = reduce(f, keywords)\n",
    "Counter(rawkeywords).most_common(20)"
   ]
  },
  {
   "cell_type": "markdown",
   "metadata": {},
   "source": [
    "The topics the Aggie covers most is UC Davis Student."
   ]
  },
  {
   "cell_type": "markdown",
   "metadata": {},
   "source": [
    "### for campus news"
   ]
  },
  {
   "cell_type": "markdown",
   "metadata": {},
   "source": [
    "#### 1. Use the dfs matrix of total data (divide keywords into to parts evently)"
   ]
  },
  {
   "cell_type": "code",
   "execution_count": 162,
   "metadata": {
    "collapsed": true
   },
   "outputs": [],
   "source": [
    "rawkeywords_campus = reduce(f, keywords[60:])\n",
    "campus_selected = dict(Counter(rawkeywords_campus).most_common(20))\n",
    "campuskey = campus_selected.keys()"
   ]
  },
  {
   "cell_type": "markdown",
   "metadata": {},
   "source": [
    "#### 2. Use the dfs matrix of campus data then repeat the procedure for total data to get the keywords"
   ]
  },
  {
   "cell_type": "code",
   "execution_count": 168,
   "metadata": {
    "collapsed": false
   },
   "outputs": [],
   "source": [
    "tf2 = tf(article_campus[\"text\"])\n",
    "index2 = [(tf2[i].toarray()).argsort()[0][-20:] for i in range(60)]\n",
    "keywords2 = [[vectorizer.get_feature_names()[i] for i in j] for j in index2]\n",
    "keywordframe2 = pd.DataFrame(keywords2)\n",
    "f = lambda x,y: x+y\n",
    "rawkeywords2 = reduce(f, keywords2)\n",
    "campuskeys = Counter(rawkeywords2).most_common(20)"
   ]
  },
  {
   "cell_type": "markdown",
   "metadata": {},
   "source": [
    "### for city news\n",
    "\n",
    "#### 1. Use the dfs matrix of total data (divide keywords into to parts evently)"
   ]
  },
  {
   "cell_type": "code",
   "execution_count": 163,
   "metadata": {
    "collapsed": false
   },
   "outputs": [],
   "source": [
    "rawkeywords_city = reduce(f, keywords[:60])\n",
    "city_selected = dict(Counter(rawkeywords_city).most_common(20))\n",
    "citykey = city_selected.keys()"
   ]
  },
  {
   "cell_type": "markdown",
   "metadata": {},
   "source": [
    "#### 2. Use the dfs matrix of campus data then repeat the procedure for total data to get the keywords"
   ]
  },
  {
   "cell_type": "code",
   "execution_count": 169,
   "metadata": {
    "collapsed": false
   },
   "outputs": [],
   "source": [
    "tf3 = tf(article_city[\"text\"])\n",
    "index3 = [(tf3[i].toarray()).argsort()[0][-20:] for i in range(60)]\n",
    "keywords3 = [[vectorizer.get_feature_names()[i] for i in j] for j in index3]\n",
    "keywordframe3 = pd.DataFrame(keywords3)\n",
    "f = lambda x,y: x+y\n",
    "rawkeywords3 = reduce(f, keywords3)\n",
    "citykeys = Counter(rawkeywords3).most_common(20)"
   ]
  },
  {
   "cell_type": "markdown",
   "metadata": {},
   "source": [
    "### Comparison\n",
    "\n",
    "#### 1. Gain the intersection of method 1"
   ]
  },
  {
   "cell_type": "code",
   "execution_count": 176,
   "metadata": {
    "collapsed": false
   },
   "outputs": [
    {
     "name": "stdout",
     "output_type": "stream",
     "text": [
      "{u'hi': 6, u'committe': 5, u'said': 7, u'asucd': 11, u'wa': 13, u'faculti': 5, u'univers': 6, u'research': 6, u'environment': 5, u'cancel': 5, u'protest': 6, u'napolitano': 6, u'uc': 24, u'student': 26, u'vote': 6, u'yiannopoulo': 6, u'regent': 5, u'senat': 11, u'event': 7, u'davi': 14} {u'counti': 8, u'servic': 4, u'famili': 5, u'wa': 7, u'grant': 5, u'food': 6, u'light': 5, u'support': 5, u'yolo': 7, u'children': 4, u'event': 6, u'downtown': 6, u'citi': 9, u'program': 4, u'student': 6, u'sacramento': 5, u'peopl': 4, u'holiday': 5, u'public': 6, u'davi': 22}\n"
     ]
    }
   ],
   "source": [
    "print campus_selected , city_selected"
   ]
  },
  {
   "cell_type": "code",
   "execution_count": 164,
   "metadata": {
    "collapsed": false
   },
   "outputs": [
    {
     "data": {
      "text/plain": [
       "{u'davi', u'event', u'student', u'wa'}"
      ]
     },
     "execution_count": 164,
     "metadata": {},
     "output_type": "execute_result"
    }
   ],
   "source": [
    "set(campuskey) & set(citykey)"
   ]
  },
  {
   "cell_type": "markdown",
   "metadata": {},
   "source": [
    "#### 2. Gain the intersection of method 2"
   ]
  },
  {
   "cell_type": "code",
   "execution_count": 175,
   "metadata": {
    "collapsed": false
   },
   "outputs": [
    {
     "name": "stdout",
     "output_type": "stream",
     "text": [
      "[(u'nonmuslim', 18), (u'measur', 17), (u'bysa', 15), (u'overallth', 14), (u'adjac', 11), (u'khadeja', 8), (u'leg', 7), (u'compensationth', 7), (u'maritim', 6), (u'discov', 6), (u'outrag', 6), (u'person', 6), (u'ilanthiraian', 6), (u'communityhim', 5), (u'amid', 5), (u'issueour', 5), (u'intactthes', 5), (u'consum', 4), (u'level', 4), (u'enterpris', 4)] [(u'californian', 26), (u'bath', 9), (u'lone', 8), (u'communicationsth', 7), (u'negoti', 7), (u'breast', 7), (u'onemil', 7), (u'honore', 6), (u'councillast', 6), (u'charter', 5), (u'introspect', 5), (u'luther', 5), (u'dilig', 5), (u'judg', 5), (u'confid', 5), (u'himjan', 5), (u'daylightth', 5), (u'equal', 5), (u'bhatti', 4), (u'antioxid', 4)]\n"
     ]
    }
   ],
   "source": [
    "print campuskeys, citykeys"
   ]
  },
  {
   "cell_type": "code",
   "execution_count": 170,
   "metadata": {
    "collapsed": false
   },
   "outputs": [
    {
     "data": {
      "text/plain": [
       "set()"
      ]
     },
     "execution_count": 170,
     "metadata": {},
     "output_type": "execute_result"
    }
   ],
   "source": [
    "set(campuskeys) & set(citykeys)"
   ]
  },
  {
   "cell_type": "markdown",
   "metadata": {},
   "source": [
    "1. Method 1\n",
    "   \n",
    "   The key words of campus are \"uc student davi\", key words of city are \"davi citi counti\".\n",
    "2. Method 2\n",
    "   \n",
    "   The key words of campus are \"nonmuslim measur bysa\", key words of city are \"californian bath lone\".\n",
    "   \n",
    "Of these 20 key words, there are only 4 same words. So we think they cover different topics."
   ]
  },
  {
   "cell_type": "markdown",
   "metadata": {},
   "source": [
    "It is easy to find that the results of these two methods are totally different. I guess that changing of corpus causes the changing of weight of every word so this phenonmena happened. What's more, I check the most common words finding by method 2, they are totally different from keywords in the list of total data. Thus I think first method is more meaningful.\n",
    "\n",
    "So I draw the Barplot of list gaining by method 1."
   ]
  },
  {
   "cell_type": "code",
   "execution_count": 158,
   "metadata": {
    "collapsed": false
   },
   "outputs": [],
   "source": [
    "def show_figure(x):\n",
    "    a = pd.DataFrame.from_dict(dict(Counter(x).most_common(20)), orient='index', dtype=None)\n",
    "    a['word']=a.index\n",
    "    a.index = range(20)\n",
    "    a.columns = [\"number\",\"word\"]\n",
    "    sns.barplot(x = \"number\",y = \"word\",data = a)\n",
    "    plt.title('Barplot of words')\n",
    "    return plt.show()"
   ]
  },
  {
   "cell_type": "markdown",
   "metadata": {},
   "source": [
    "#### Barplot for campus data"
   ]
  },
  {
   "cell_type": "code",
   "execution_count": 159,
   "metadata": {
    "collapsed": false
   },
   "outputs": [
    {
     "data": {
      "image/png": "[encoded data removed]",
      "text/plain": [
       "<matplotlib.figure.Figure at 0x10530e80>"
      ]
     },
     "metadata": {},
     "output_type": "display_data"
    }
   ],
   "source": [
    "show_figure(rawkeywords_campus)"
   ]
  },
  {
   "cell_type": "markdown",
   "metadata": {},
   "source": [
    "#### Barplot for city data"
   ]
  },
  {
   "cell_type": "code",
   "execution_count": 160,
   "metadata": {
    "collapsed": false
   },
   "outputs": [
    {
     "data": {
      "image/png": "[encoded data removed]",
      "text/plain": [
       "<matplotlib.figure.Figure at 0xf731b70>"
      ]
     },
     "metadata": {},
     "output_type": "display_data"
    }
   ],
   "source": [
    "show_figure(rawkeywords_city)"
   ]
  },
  {
   "cell_type": "markdown",
   "metadata": {},
   "source": [
    "### Find similar articles"
   ]
  },
  {
   "cell_type": "code",
   "execution_count": 171,
   "metadata": {
    "collapsed": false
   },
   "outputs": [],
   "source": [
    "sim = cosine_similarity(tf1)\n",
    "sim = np.triu(sim,1)"
   ]
  },
  {
   "cell_type": "code",
   "execution_count": 127,
   "metadata": {
    "collapsed": false
   },
   "outputs": [
    {
     "data": {
      "text/plain": [
       "[(74, 95), (111, 118), (84, 98)]"
      ]
     },
     "execution_count": 127,
     "metadata": {},
     "output_type": "execute_result"
    }
   ],
   "source": [
    "max_pair = sim.argsort(axis = None)[-3:]\n",
    "nrow = max_pair//120\n",
    "ncol = max_pair%120\n",
    "[(nrow[i], ncol[i]) for i in [2,1,0]]"
   ]
  },
  {
   "cell_type": "code",
   "execution_count": 177,
   "metadata": {
    "collapsed": false
   },
   "outputs": [
    {
     "data": {
      "text/plain": [
       "['UC Davis holds first mental health conference',\n",
       " 'UC Davis to host first ever mental health conference',\n",
       " 'Protests erupt at Milo Yiannopoulos event',\n",
       " 'Davis College Republicans club leads protest against cancellation of Milo Yiannopoulos event',\n",
       " 'University of California Regents meet, approve first tuition raise in six years',\n",
       " 'UC Regents vote to raise tuition for UC campuses']"
      ]
     },
     "execution_count": 177,
     "metadata": {},
     "output_type": "execute_result"
    }
   ],
   "source": [
    "list(result[\"title\"][[74,95,111,118,84,98]])"
   ]
  },
  {
   "cell_type": "markdown",
   "metadata": {},
   "source": [
    "The titles of them are \n",
    "\n",
    "('UC Davis holds first mental health conference','UC Davis to host first ever mental health conference'),\n",
    "\n",
    "('Protests erupt at Milo Yiannopoulos event','Davis College Republicans club leads protest against cancellation of Milo Yiannopoulos event'),\n",
    "\n",
    "('University of California Regents meet, approve first tuition raise in six years','UC Regents vote to raise tuition for UC campuses'). \n",
    "\n",
    "The words(lemma) that each pair have in common diaplay below."
   ]
  },
  {
   "cell_type": "code",
   "execution_count": 184,
   "metadata": {
    "collapsed": true
   },
   "outputs": [],
   "source": [
    "from nltk.corpus import stopwords\n",
    "def filtered_words(text):\n",
    "    return [w for w in text if not w in stopwords.words('english')]"
   ]
  },
  {
   "cell_type": "code",
   "execution_count": 185,
   "metadata": {
    "collapsed": false
   },
   "outputs": [],
   "source": [
    "s=[filtered_words(lemmatize(text)) for text in result[\"text\"][[74,95,111,118,84,98]]]\n",
    "sets = [set(x) for x in s]"
   ]
  },
  {
   "cell_type": "code",
   "execution_count": 190,
   "metadata": {
    "collapsed": false
   },
   "outputs": [
    {
     "name": "stdout",
     "output_type": "stream",
     "text": [
      "set([u'help', u'founder', u'text', u'month', u'involv', u'group', u'lgbtqia', u'monica', u'break', u'psychologist', u'tri', u'administr', u'organ', u'gender', u'panelist', u'crisi', u'two', u'prevent', u'set', u'mental', u'realli', u'close', u'beyond', u'juliet', u'spiritu', u'abl', u'health', u'approach', u'porter', u'full', u'wa', u'confer', u'destigmat', u'bodi', u'host', u'base', u'come', u'panel', u'thirdyear', u'remark', u'attende', u'place', u'advocaci', u'studi', u'disabl', u'first', u'major', u'three', u'right', u'opportun', u'open', u'select', u'use', u'feb', u'spoke', u'commun', u'suicid', u'workshop', u'advoc', u'includ', u'pm', u'offer', u'forb', u'heal', u'took', u'fund', u'line', u'davi', u'counsel', u'work', u'aim', u'nine', u'psycholog', u'uc', u'150', u'engag', u'applic', u'process', u'want', u'onlin', u'secur', u'perform', u'speaker', u'peopl', u'9', u'attend', u'samantha', u'english', u'director', u'said', u'plan', u'student', u'center', u'well', u'person', u'thi', u'choos', u'chiang', u'academ'])\n"
     ]
    }
   ],
   "source": [
    "print sets[0] & sets[1]"
   ]
  },
  {
   "cell_type": "code",
   "execution_count": 191,
   "metadata": {
    "collapsed": false
   },
   "outputs": [
    {
     "name": "stdout",
     "output_type": "stream",
     "text": [
      "set([u'claim', u'major', u'crowd', u'danger', u'feel', u'becaus', u'america', u'attend', u'held', u'protest', u'pressur', u'want', u'go', u'milo', u'hate', u'event', u'damag', u'onli', u'said', u'give', u'would', u'start', u'come', u'support', u'univers', u'due', u'jan', u'also', u'black', u'lot', u'sacramento', u'speech', u'speak', u'hat', u'cancel', u'pm', u'make', u'thi', u'wa', u'get', u'read', u'peopl', u'hundr', u'great', u'free', u'back', u'host', u'hi', u'facebook', u'student', u'veri', u'yiannopoulo', u'republican', u'dcr', u'minut', u'davi', u'14', u'protect', u'word', u'like', u'local', u'howev', u'properti', u'violent', u'face', u'matter', u'tour', u'came', u'outsid', u'time', u'colleg', u'went', u'campu', u'page', u'uc'])\n"
     ]
    }
   ],
   "source": [
    "print sets[2] & sets[3]"
   ]
  },
  {
   "cell_type": "code",
   "execution_count": 192,
   "metadata": {
    "collapsed": false
   },
   "outputs": [
    {
     "name": "stdout",
     "output_type": "stream",
     "text": [
      "set([u'among', u'336', u'direct', u'gavin', u'hook', u'cost', u'vote', u'26', u'said', u'regent', u'debat', u'jan', u'new', u'282', u'public', u'higher', u'newsom', u'lee', u'wa', u'afford', u'tuition', u'fee', u'let', u'student', u'commit', u'increas', u'sinc', u'alex', u'54', u'servic', u'rais', u'place', u'thi', u'presid', u'california', u'crisi', u'uc', u'first'])\n"
     ]
    }
   ],
   "source": [
    "print sets[4] & sets[5]"
   ]
  },
  {
   "cell_type": "markdown",
   "metadata": {},
   "source": [
    "### Evaluate this corpus\n",
    "\n",
    "1. Presentitive. This data set can kind of represent the Aggie. Because results we get from this corpus are closed to life in Davis. For example, the topics it covering most consist with the reality; the topics of city news and campus news are different. The number of articles is enough for us to analyze.\n",
    "2. Inference. This corpus can support us to analyze the different article styles of different author because some authors have more than one articles in the corpus. What's more, we can get the frequency of these news. Because the number of each day's articles is different."
   ]
  }
 ],
 "metadata": {
  "anaconda-cloud": {},
  "kernelspec": {
   "display_name": "Python [default]",
   "language": "python",
   "name": "python2"
  },
  "language_info": {
   "codemirror_mode": {
    "name": "ipython",
    "version": 2
   },
   "file_extension": ".py",
   "mimetype": "text/x-python",
   "name": "python",
   "nbconvert_exporter": "python",
   "pygments_lexer": "ipython2",
   "version": "2.7.12"
  }
 },
 "nbformat": 4,
 "nbformat_minor": 2
}
