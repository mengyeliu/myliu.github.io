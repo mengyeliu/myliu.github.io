{
 "cells": [
  {
   "cell_type": "markdown",
   "metadata": {},
   "source": [
    "# Assignment 6\n",
    "\n",
    "In this assignment, you'll analyze a collection of data sets from the [San Francisco Open Data Portal](http://data.sfgov.org/) and [Zillow](https://www.zillow.com/). The data sets have been stored in the SQLite database `sf_data.sqlite`, which you can [download here](http://anson.ucdavis.edu/~nulle/sf_data.sqlite). The database contains the following tables:\n",
    "\n",
    "Table                   | Description\n",
    "----------------------- | -----------\n",
    "`crime`                 | Crime reports dating back to 2010.\n",
    "`mobile_food_locations` | List of all locations where mobile food vendors sell.\n",
    "`mobile_food_permits`   | List of all mobile food vendor permits. More details [here](https://data.sfgov.org/api/views/rqzj-sfat/files/8g2f5RV4PEk0_b24iJEtgEet9gnh_eA27GlqoOjjK4k?download=true&filename=DPW_DataDictionary_Mobile-Food-Facility-Permit.pdf).\n",
    "`mobile_food_schedule`  | Schedules for mobile food vendors.\n",
    "`noise`                 | Noise complaints dating back to August 2015.\n",
    "`parking`               | List of all parking lots.\n",
    "`parks`                 | List of all parks.\n",
    "`schools`               | List of all schools.\n",
    "`zillow`                | Zillow rent and housing statistics dating back to 1996. More details [here](https://www.zillow.com/research/data/).\n",
    "\n",
    "The `mobile_food_` tables are explicitly connected through the `locationid` and `permit` columns. The other tables are not connected, but you may be able to connect them using dates, latitude/longitude, or postal codes.\n",
    "\n",
    "Shapefiles for US postal codes are available [here](https://www.census.gov/geo/maps-data/data/cbf/cbf_zcta.html). These may be useful for converting latitude/longitude to postal codes.\n",
    "\n",
    "Shapefiles for San Francisco Neighborhoods are available [here](https://data.sfgov.org/Geographic-Locations-and-Boundaries/SF-Find-Neighborhoods/pty2-tcw4)."
   ]
  },
  {
   "cell_type": "code",
   "execution_count": 1,
   "metadata": {
    "collapsed": false
   },
   "outputs": [],
   "source": [
    "import sqlite3 as sql\n",
    "import pandas as pd"
   ]
  },
  {
   "cell_type": "code",
   "execution_count": 2,
   "metadata": {
    "collapsed": false
   },
   "outputs": [
    {
     "data": {
      "text/html": [
       "<div>\n",
       "<table border=\"1\" class=\"dataframe\">\n",
       "  <thead>\n",
       "    <tr style=\"text-align: right;\">\n",
       "      <th></th>\n",
       "      <th>type</th>\n",
       "      <th>name</th>\n",
       "      <th>tbl_name</th>\n",
       "      <th>rootpage</th>\n",
       "      <th>sql</th>\n",
       "    </tr>\n",
       "  </thead>\n",
       "  <tbody>\n",
       "    <tr>\n",
       "      <th>0</th>\n",
       "      <td>table</td>\n",
       "      <td>crime</td>\n",
       "      <td>crime</td>\n",
       "      <td>2</td>\n",
       "      <td>CREATE TABLE \"crime\" (\\n\"IncidntNum\" INTEGER,\\...</td>\n",
       "    </tr>\n",
       "    <tr>\n",
       "      <th>1</th>\n",
       "      <td>table</td>\n",
       "      <td>noise</td>\n",
       "      <td>noise</td>\n",
       "      <td>35775</td>\n",
       "      <td>CREATE TABLE \"noise\" (\\n\"CaseID\" INTEGER,\\n  \"...</td>\n",
       "    </tr>\n",
       "    <tr>\n",
       "      <th>2</th>\n",
       "      <td>table</td>\n",
       "      <td>parking</td>\n",
       "      <td>parking</td>\n",
       "      <td>35921</td>\n",
       "      <td>CREATE TABLE \"parking\" (\\n\"Owner\" TEXT,\\n  \"Ad...</td>\n",
       "    </tr>\n",
       "    <tr>\n",
       "      <th>3</th>\n",
       "      <td>table</td>\n",
       "      <td>schools</td>\n",
       "      <td>schools</td>\n",
       "      <td>35944</td>\n",
       "      <td>CREATE TABLE \"schools\" (\\n\"Name\" TEXT,\\n  \"Ent...</td>\n",
       "    </tr>\n",
       "    <tr>\n",
       "      <th>4</th>\n",
       "      <td>table</td>\n",
       "      <td>parks</td>\n",
       "      <td>parks</td>\n",
       "      <td>35961</td>\n",
       "      <td>CREATE TABLE \"parks\" (\\n\"Name\" TEXT,\\n  \"Type\"...</td>\n",
       "    </tr>\n",
       "    <tr>\n",
       "      <th>5</th>\n",
       "      <td>table</td>\n",
       "      <td>zillow</td>\n",
       "      <td>zillow</td>\n",
       "      <td>35967</td>\n",
       "      <td>CREATE TABLE \"zillow\" (\\n\"RegionName\" INTEGER,...</td>\n",
       "    </tr>\n",
       "    <tr>\n",
       "      <th>6</th>\n",
       "      <td>table</td>\n",
       "      <td>mobile_food_permits</td>\n",
       "      <td>mobile_food_permits</td>\n",
       "      <td>36050</td>\n",
       "      <td>CREATE TABLE \"mobile_food_permits\" (\\n\"permit\"...</td>\n",
       "    </tr>\n",
       "    <tr>\n",
       "      <th>7</th>\n",
       "      <td>table</td>\n",
       "      <td>mobile_food_locations</td>\n",
       "      <td>mobile_food_locations</td>\n",
       "      <td>36060</td>\n",
       "      <td>CREATE TABLE \"mobile_food_locations\" (\\n\"locat...</td>\n",
       "    </tr>\n",
       "    <tr>\n",
       "      <th>8</th>\n",
       "      <td>table</td>\n",
       "      <td>mobile_food_schedule</td>\n",
       "      <td>mobile_food_schedule</td>\n",
       "      <td>36079</td>\n",
       "      <td>CREATE TABLE \"mobile_food_schedule\" (\\n\"locati...</td>\n",
       "    </tr>\n",
       "  </tbody>\n",
       "</table>\n",
       "</div>"
      ],
      "text/plain": [
       "    type                   name               tbl_name  rootpage  \\\n",
       "0  table                  crime                  crime         2   \n",
       "1  table                  noise                  noise     35775   \n",
       "2  table                parking                parking     35921   \n",
       "3  table                schools                schools     35944   \n",
       "4  table                  parks                  parks     35961   \n",
       "5  table                 zillow                 zillow     35967   \n",
       "6  table    mobile_food_permits    mobile_food_permits     36050   \n",
       "7  table  mobile_food_locations  mobile_food_locations     36060   \n",
       "8  table   mobile_food_schedule   mobile_food_schedule     36079   \n",
       "\n",
       "                                                 sql  \n",
       "0  CREATE TABLE \"crime\" (\\n\"IncidntNum\" INTEGER,\\...  \n",
       "1  CREATE TABLE \"noise\" (\\n\"CaseID\" INTEGER,\\n  \"...  \n",
       "2  CREATE TABLE \"parking\" (\\n\"Owner\" TEXT,\\n  \"Ad...  \n",
       "3  CREATE TABLE \"schools\" (\\n\"Name\" TEXT,\\n  \"Ent...  \n",
       "4  CREATE TABLE \"parks\" (\\n\"Name\" TEXT,\\n  \"Type\"...  \n",
       "5  CREATE TABLE \"zillow\" (\\n\"RegionName\" INTEGER,...  \n",
       "6  CREATE TABLE \"mobile_food_permits\" (\\n\"permit\"...  \n",
       "7  CREATE TABLE \"mobile_food_locations\" (\\n\"locat...  \n",
       "8  CREATE TABLE \"mobile_food_schedule\" (\\n\"locati...  "
      ]
     },
     "execution_count": 2,
     "metadata": {},
     "output_type": "execute_result"
    }
   ],
   "source": [
    "db = sql.connect(\"sf_data.sqlite\")\n",
    "pd.read_sql(\"SELECT * FROM sqlite_master\", db)"
   ]
  },
  {
   "cell_type": "markdown",
   "metadata": {},
   "source": [
    "__Exercise 1.1.__ Which mobile food vendor(s) sells at the most locations?"
   ]
  },
  {
   "cell_type": "code",
   "execution_count": 9,
   "metadata": {
    "collapsed": false
   },
   "outputs": [
    {
     "data": {
      "text/html": [
       "<div>\n",
       "<table border=\"1\" class=\"dataframe\">\n",
       "  <thead>\n",
       "    <tr style=\"text-align: right;\">\n",
       "      <th></th>\n",
       "      <th>locationid</th>\n",
       "      <th>Applicant</th>\n",
       "      <th>permit</th>\n",
       "      <th>counts</th>\n",
       "    </tr>\n",
       "  </thead>\n",
       "  <tbody>\n",
       "    <tr>\n",
       "      <th>0</th>\n",
       "      <td>934630</td>\n",
       "      <td>May Catering</td>\n",
       "      <td>17MFF-0110</td>\n",
       "      <td>58</td>\n",
       "    </tr>\n",
       "    <tr>\n",
       "      <th>1</th>\n",
       "      <td>934668</td>\n",
       "      <td>Anas Goodies Catering</td>\n",
       "      <td>17MFF-0111</td>\n",
       "      <td>37</td>\n",
       "    </tr>\n",
       "    <tr>\n",
       "      <th>2</th>\n",
       "      <td>437226</td>\n",
       "      <td>Natan's Catering</td>\n",
       "      <td>13MFF-0102</td>\n",
       "      <td>37</td>\n",
       "    </tr>\n",
       "    <tr>\n",
       "      <th>3</th>\n",
       "      <td>934485</td>\n",
       "      <td>Liang Bai Ping</td>\n",
       "      <td>17MFF-0090</td>\n",
       "      <td>33</td>\n",
       "    </tr>\n",
       "    <tr>\n",
       "      <th>4</th>\n",
       "      <td>765710</td>\n",
       "      <td>Park's Catering</td>\n",
       "      <td>16MFF-0051</td>\n",
       "      <td>23</td>\n",
       "    </tr>\n",
       "  </tbody>\n",
       "</table>\n",
       "</div>"
      ],
      "text/plain": [
       "   locationid              Applicant      permit  counts\n",
       "0      934630           May Catering  17MFF-0110      58\n",
       "1      934668  Anas Goodies Catering  17MFF-0111      37\n",
       "2      437226       Natan's Catering  13MFF-0102      37\n",
       "3      934485         Liang Bai Ping  17MFF-0090      33\n",
       "4      765710        Park's Catering  16MFF-0051      23"
      ]
     },
     "execution_count": 9,
     "metadata": {},
     "output_type": "execute_result"
    }
   ],
   "source": [
    "require = \"\"\" SELECT\n",
    "                  L.locationid, \n",
    "                  M.Applicant,\n",
    "                  M.permit, \n",
    "                  COUNT(DISTINCT locationid) AS counts \n",
    "            FROM \n",
    "                 mobile_food_permits AS M\n",
    "            INNER JOIN mobile_food_schedule  AS L ON L.permit = M.permit \n",
    "            GROUP BY \n",
    "                 M.Applicant\n",
    "            ORDER BY counts DESC\"\"\"\n",
    "data1 = pd.read_sql(require,db)\n",
    "data1.head()"
   ]
  },
  {
   "cell_type": "code",
   "execution_count": 10,
   "metadata": {
    "collapsed": true
   },
   "outputs": [],
   "source": [
    "db.close()"
   ]
  },
  {
   "cell_type": "markdown",
   "metadata": {},
   "source": [
    "__Exercise 1.2.__ Ask and use the database to analyze 5 questions about San Francisco. For each question, write at least 150 words and support your answer with plots. Make a map for at least 2 of the 5 questions.\n",
    "\n",
    "You should try to come up with some questions on your own, but these are examples of reasonable questions:\n",
    "\n",
    "* Which parts of the city are the most and least expensive?\n",
    "* Which parts of the city are the most dangerous (and at what times)?\n",
    "* Are noise complaints and mobile food vendors related?\n",
    "* What are the best times and places to find food trucks?\n",
    "* Is there a relationship between housing prices and any of the other tables?\n",
    "\n",
    "Please make sure to clearly state each of your questions in your submission."
   ]
  },
  {
   "cell_type": "code",
   "execution_count": 2,
   "metadata": {
    "collapsed": true
   },
   "outputs": [],
   "source": [
    "import geopandas as gpd\n",
    "import shapely.geometry as geom\n",
    "# Make Jupyter to automatically display matplotlib plots.\n",
    "%matplotlib inline\n",
    "# Make plots larger.\n",
    "import matplotlib.pyplot as plt\n",
    "plt.rcParams['figure.figsize'] = (12, 12)\n",
    "import pandas as pd\n",
    "import numpy as np"
   ]
  },
  {
   "cell_type": "code",
   "execution_count": 3,
   "metadata": {
    "collapsed": false
   },
   "outputs": [],
   "source": [
    "db = sql.connect(\"sf_data.sqlite\")"
   ]
  },
  {
   "cell_type": "markdown",
   "metadata": {
    "collapsed": false
   },
   "source": [
    "### 2.1 Which parts of the city are the most and least expensive?\n",
    "\n",
    "I choose to use table zillow to do the analysis. There are 6 variables in this table.\n",
    "\n",
    "- ZRI per Sq Ft ($): Median of the estimated monthly rent price of all homes, per square foot. This is calculated by taking the estimated rent price for a home and dividing it by the homes square footage.\n",
    "\n",
    "- Median Sold Price Per Sq Ft ($): Median of sold prices divided by the square footage of a home.\n",
    "\n",
    "- Price to Rent Ratio: This ratio is first calculated at the individual home level, where the estimated home value is divided by 12 times its estimated monthly rent price. The the median of all home-level price-to-rent ratios for a given region is then calculated.\n",
    "\n",
    "- Sold in Past Year (Turnover) (%): The percentage of all homes in a given area that sold in the past 12 months."
   ]
  },
  {
   "cell_type": "code",
   "execution_count": 16,
   "metadata": {
    "collapsed": false
   },
   "outputs": [
    {
     "data": {
      "text/html": [
       "<div>\n",
       "<table border=\"1\" class=\"dataframe\">\n",
       "  <thead>\n",
       "    <tr style=\"text-align: right;\">\n",
       "      <th></th>\n",
       "      <th>RegionName</th>\n",
       "      <th>Date</th>\n",
       "      <th>ZriPerSqft_AllHomes</th>\n",
       "      <th>MedianSoldPricePerSqft_AllHomes</th>\n",
       "      <th>PriceToRentRatio_AllHomes</th>\n",
       "      <th>Turnover_AllHomes</th>\n",
       "    </tr>\n",
       "  </thead>\n",
       "  <tbody>\n",
       "    <tr>\n",
       "      <th>0</th>\n",
       "      <td>94109</td>\n",
       "      <td>2010-11-01 00:00:00</td>\n",
       "      <td>3.156</td>\n",
       "      <td>675.1913</td>\n",
       "      <td>19.14</td>\n",
       "      <td>6.0771</td>\n",
       "    </tr>\n",
       "    <tr>\n",
       "      <th>1</th>\n",
       "      <td>94110</td>\n",
       "      <td>2010-11-01 00:00:00</td>\n",
       "      <td>2.566</td>\n",
       "      <td>599.6785</td>\n",
       "      <td>18.10</td>\n",
       "      <td>5.4490</td>\n",
       "    </tr>\n",
       "    <tr>\n",
       "      <th>2</th>\n",
       "      <td>94122</td>\n",
       "      <td>2010-11-01 00:00:00</td>\n",
       "      <td>2.168</td>\n",
       "      <td>495.4432</td>\n",
       "      <td>17.99</td>\n",
       "      <td>2.4198</td>\n",
       "    </tr>\n",
       "    <tr>\n",
       "      <th>3</th>\n",
       "      <td>94080</td>\n",
       "      <td>2010-11-01 00:00:00</td>\n",
       "      <td>1.666</td>\n",
       "      <td>369.5538</td>\n",
       "      <td>18.31</td>\n",
       "      <td>3.8757</td>\n",
       "    </tr>\n",
       "    <tr>\n",
       "      <th>4</th>\n",
       "      <td>94112</td>\n",
       "      <td>2010-11-01 00:00:00</td>\n",
       "      <td>2.322</td>\n",
       "      <td>422.4538</td>\n",
       "      <td>14.44</td>\n",
       "      <td>3.1288</td>\n",
       "    </tr>\n",
       "  </tbody>\n",
       "</table>\n",
       "</div>"
      ],
      "text/plain": [
       "   RegionName                 Date  ZriPerSqft_AllHomes  \\\n",
       "0       94109  2010-11-01 00:00:00                3.156   \n",
       "1       94110  2010-11-01 00:00:00                2.566   \n",
       "2       94122  2010-11-01 00:00:00                2.168   \n",
       "3       94080  2010-11-01 00:00:00                1.666   \n",
       "4       94112  2010-11-01 00:00:00                2.322   \n",
       "\n",
       "   MedianSoldPricePerSqft_AllHomes  PriceToRentRatio_AllHomes  \\\n",
       "0                         675.1913                      19.14   \n",
       "1                         599.6785                      18.10   \n",
       "2                         495.4432                      17.99   \n",
       "3                         369.5538                      18.31   \n",
       "4                         422.4538                      14.44   \n",
       "\n",
       "   Turnover_AllHomes  \n",
       "0             6.0771  \n",
       "1             5.4490  \n",
       "2             2.4198  \n",
       "3             3.8757  \n",
       "4             3.1288  "
      ]
     },
     "execution_count": 16,
     "metadata": {},
     "output_type": "execute_result"
    }
   ],
   "source": [
    "Housing = pd.read_sql(\"SELECT * FROM zillow\", db)\n",
    "Housing.head()"
   ]
  },
  {
   "cell_type": "code",
   "execution_count": 22,
   "metadata": {
    "collapsed": false
   },
   "outputs": [
    {
     "data": {
      "text/html": [
       "<div>\n",
       "<table border=\"1\" class=\"dataframe\">\n",
       "  <thead>\n",
       "    <tr style=\"text-align: right;\">\n",
       "      <th></th>\n",
       "      <th>RegionName</th>\n",
       "      <th>avg_ZP</th>\n",
       "      <th>avg_MSP</th>\n",
       "      <th>avg_PRR</th>\n",
       "      <th>avg_T</th>\n",
       "    </tr>\n",
       "  </thead>\n",
       "  <tbody>\n",
       "    <tr>\n",
       "      <th>0</th>\n",
       "      <td>94124</td>\n",
       "      <td>2.328160</td>\n",
       "      <td>297.008046</td>\n",
       "      <td>15.119605</td>\n",
       "      <td>4.810203</td>\n",
       "    </tr>\n",
       "    <tr>\n",
       "      <th>1</th>\n",
       "      <td>94134</td>\n",
       "      <td>2.395173</td>\n",
       "      <td>347.027455</td>\n",
       "      <td>17.030000</td>\n",
       "      <td>3.852362</td>\n",
       "    </tr>\n",
       "    <tr>\n",
       "      <th>2</th>\n",
       "      <td>94080</td>\n",
       "      <td>2.172000</td>\n",
       "      <td>375.629802</td>\n",
       "      <td>18.342105</td>\n",
       "      <td>4.413822</td>\n",
       "    </tr>\n",
       "    <tr>\n",
       "      <th>3</th>\n",
       "      <td>94132</td>\n",
       "      <td>2.370480</td>\n",
       "      <td>385.384982</td>\n",
       "      <td>19.757368</td>\n",
       "      <td>4.093720</td>\n",
       "    </tr>\n",
       "    <tr>\n",
       "      <th>4</th>\n",
       "      <td>94112</td>\n",
       "      <td>2.466640</td>\n",
       "      <td>416.744886</td>\n",
       "      <td>17.992895</td>\n",
       "      <td>3.745187</td>\n",
       "    </tr>\n",
       "  </tbody>\n",
       "</table>\n",
       "</div>"
      ],
      "text/plain": [
       "   RegionName    avg_ZP     avg_MSP    avg_PRR     avg_T\n",
       "0       94124  2.328160  297.008046  15.119605  4.810203\n",
       "1       94134  2.395173  347.027455  17.030000  3.852362\n",
       "2       94080  2.172000  375.629802  18.342105  4.413822\n",
       "3       94132  2.370480  385.384982  19.757368  4.093720\n",
       "4       94112  2.466640  416.744886  17.992895  3.745187"
      ]
     },
     "execution_count": 22,
     "metadata": {},
     "output_type": "execute_result"
    }
   ],
   "source": [
    "require1 = \"\"\"SELECT \n",
    "                 RegionName, \n",
    "                 AVG(ZriPerSqft_AllHomes) AS avg_ZP, \n",
    "                 AVG(MedianSoldPricePerSqft_AllHomes) AS avg_MSP, \n",
    "                 AVG(PriceToRentRatio_AllHomes) AS avg_PRR,\n",
    "                 AVG(Turnover_AllHomes) AS avg_T\n",
    "            FROM \n",
    "                 zillow \n",
    "            GROUP BY RegionName \n",
    "            ORDER BY avg_MSP\n",
    "\"\"\"\n",
    "msp = pd.read_sql(require1,db)\n",
    "msp.head()"
   ]
  },
  {
   "cell_type": "code",
   "execution_count": 25,
   "metadata": {
    "collapsed": false
   },
   "outputs": [
    {
     "data": {
      "text/plain": [
       "RegionName    22\n",
       "avg_ZP        24\n",
       "avg_MSP       25\n",
       "avg_PRR       23\n",
       "avg_T         25\n",
       "dtype: int64"
      ]
     },
     "execution_count": 25,
     "metadata": {},
     "output_type": "execute_result"
    }
   ],
   "source": [
    "msp.idxmax(axis=0, skipna=True)"
   ]
  },
  {
   "cell_type": "code",
   "execution_count": 28,
   "metadata": {
    "collapsed": false
   },
   "outputs": [
    {
     "data": {
      "text/html": [
       "<div>\n",
       "<table border=\"1\" class=\"dataframe\">\n",
       "  <thead>\n",
       "    <tr style=\"text-align: right;\">\n",
       "      <th></th>\n",
       "      <th>RegionName</th>\n",
       "      <th>avg_ZP</th>\n",
       "      <th>avg_MSP</th>\n",
       "      <th>avg_PRR</th>\n",
       "      <th>avg_T</th>\n",
       "    </tr>\n",
       "  </thead>\n",
       "  <tbody>\n",
       "    <tr>\n",
       "      <th>23</th>\n",
       "      <td>94123</td>\n",
       "      <td>3.764773</td>\n",
       "      <td>696.166788</td>\n",
       "      <td>26.086711</td>\n",
       "      <td>5.839732</td>\n",
       "    </tr>\n",
       "    <tr>\n",
       "      <th>24</th>\n",
       "      <td>94105</td>\n",
       "      <td>4.279173</td>\n",
       "      <td>798.257824</td>\n",
       "      <td>20.133816</td>\n",
       "      <td>6.928359</td>\n",
       "    </tr>\n",
       "    <tr>\n",
       "      <th>25</th>\n",
       "      <td>94104</td>\n",
       "      <td>NaN</td>\n",
       "      <td>1336.128581</td>\n",
       "      <td>NaN</td>\n",
       "      <td>14.831512</td>\n",
       "    </tr>\n",
       "  </tbody>\n",
       "</table>\n",
       "</div>"
      ],
      "text/plain": [
       "    RegionName    avg_ZP      avg_MSP    avg_PRR      avg_T\n",
       "23       94123  3.764773   696.166788  26.086711   5.839732\n",
       "24       94105  4.279173   798.257824  20.133816   6.928359\n",
       "25       94104       NaN  1336.128581        NaN  14.831512"
      ]
     },
     "execution_count": 28,
     "metadata": {},
     "output_type": "execute_result"
    }
   ],
   "source": [
    "msp.iloc[23:26]"
   ]
  },
  {
   "cell_type": "code",
   "execution_count": 26,
   "metadata": {
    "collapsed": false
   },
   "outputs": [
    {
     "data": {
      "text/plain": [
       "RegionName    2\n",
       "avg_ZP        2\n",
       "avg_MSP       0\n",
       "avg_PRR       0\n",
       "avg_T         7\n",
       "dtype: int64"
      ]
     },
     "execution_count": 26,
     "metadata": {},
     "output_type": "execute_result"
    }
   ],
   "source": [
    "msp.idxmin(axis=0, skipna=True)"
   ]
  },
  {
   "cell_type": "markdown",
   "metadata": {},
   "source": [
    "There are many different house with same region name, so I take the average of them by region name. In this way, I got three new variables\n",
    "\n",
    "- avg_ZP, average of the ZRI per Sq Ft with same region name\n",
    "- avg_MSP, average of Median Sold Price Per Sq Ft with same region name\n",
    "- avg_PRR, average of Price to Rent Ratio with same region name\n",
    "- avg_T, average of Turnover in the same region\n",
    "#### Conclusions:\n",
    " 1. Region 94124 has the lowest Median Sold Price Per F Sqt and theest  lowPrice to Rent Ratio\n",
    " 2. Houses in region 94104 is the most expensive but its turnover is the highest and these houses are not for rent. So we can guess region 94104 is a valuable region.\n",
    " 3. Region 94123 has the highest average of Price to Rent Ratio. It means that renting a house in this area may better than buying a house.\n",
    " 4. Region 94105 has the most expensive rent price. From the region name 94104 and 94105, I guess these two area is closed."
   ]
  },
  {
   "cell_type": "markdown",
   "metadata": {},
   "source": [
    "### 2.2 Which parts of the city are the most dangerous (and at what times)?\n",
    "\n",
    "The table crime is suitable to solve this problem."
   ]
  },
  {
   "cell_type": "code",
   "execution_count": 4,
   "metadata": {
    "collapsed": false
   },
   "outputs": [
    {
     "data": {
      "text/html": [
       "<div>\n",
       "<table border=\"1\" class=\"dataframe\">\n",
       "  <thead>\n",
       "    <tr style=\"text-align: right;\">\n",
       "      <th></th>\n",
       "      <th>IncidntNum</th>\n",
       "      <th>Category</th>\n",
       "      <th>Descript</th>\n",
       "      <th>DayOfWeek</th>\n",
       "      <th>Datetime</th>\n",
       "      <th>PdDistrict</th>\n",
       "      <th>Resolution</th>\n",
       "      <th>Address</th>\n",
       "      <th>Lon</th>\n",
       "      <th>Lat</th>\n",
       "    </tr>\n",
       "  </thead>\n",
       "  <tbody>\n",
       "    <tr>\n",
       "      <th>0</th>\n",
       "      <td>150060275</td>\n",
       "      <td>NON-CRIMINAL</td>\n",
       "      <td>LOST PROPERTY</td>\n",
       "      <td>Monday</td>\n",
       "      <td>2015-01-19 14:00:00</td>\n",
       "      <td>MISSION</td>\n",
       "      <td>NONE</td>\n",
       "      <td>18TH ST / VALENCIA ST</td>\n",
       "      <td>-122.421582</td>\n",
       "      <td>37.761701</td>\n",
       "    </tr>\n",
       "    <tr>\n",
       "      <th>1</th>\n",
       "      <td>150098210</td>\n",
       "      <td>ROBBERY</td>\n",
       "      <td>ROBBERY, BODILY FORCE</td>\n",
       "      <td>Sunday</td>\n",
       "      <td>2015-02-01 15:45:00</td>\n",
       "      <td>TENDERLOIN</td>\n",
       "      <td>NONE</td>\n",
       "      <td>300 Block of LEAVENWORTH ST</td>\n",
       "      <td>-122.414406</td>\n",
       "      <td>37.784191</td>\n",
       "    </tr>\n",
       "    <tr>\n",
       "      <th>2</th>\n",
       "      <td>150098210</td>\n",
       "      <td>ASSAULT</td>\n",
       "      <td>AGGRAVATED ASSAULT WITH BODILY FORCE</td>\n",
       "      <td>Sunday</td>\n",
       "      <td>2015-02-01 15:45:00</td>\n",
       "      <td>TENDERLOIN</td>\n",
       "      <td>NONE</td>\n",
       "      <td>300 Block of LEAVENWORTH ST</td>\n",
       "      <td>-122.414406</td>\n",
       "      <td>37.784191</td>\n",
       "    </tr>\n",
       "    <tr>\n",
       "      <th>3</th>\n",
       "      <td>150098210</td>\n",
       "      <td>SECONDARY CODES</td>\n",
       "      <td>DOMESTIC VIOLENCE</td>\n",
       "      <td>Sunday</td>\n",
       "      <td>2015-02-01 15:45:00</td>\n",
       "      <td>TENDERLOIN</td>\n",
       "      <td>NONE</td>\n",
       "      <td>300 Block of LEAVENWORTH ST</td>\n",
       "      <td>-122.414406</td>\n",
       "      <td>37.784191</td>\n",
       "    </tr>\n",
       "    <tr>\n",
       "      <th>4</th>\n",
       "      <td>150098226</td>\n",
       "      <td>VANDALISM</td>\n",
       "      <td>MALICIOUS MISCHIEF, VANDALISM OF VEHICLES</td>\n",
       "      <td>Tuesday</td>\n",
       "      <td>2015-01-27 19:00:00</td>\n",
       "      <td>NORTHERN</td>\n",
       "      <td>NONE</td>\n",
       "      <td>LOMBARD ST / LAGUNA ST</td>\n",
       "      <td>-122.431119</td>\n",
       "      <td>37.800469</td>\n",
       "    </tr>\n",
       "  </tbody>\n",
       "</table>\n",
       "</div>"
      ],
      "text/plain": [
       "   IncidntNum         Category                                   Descript  \\\n",
       "0   150060275     NON-CRIMINAL                              LOST PROPERTY   \n",
       "1   150098210          ROBBERY                      ROBBERY, BODILY FORCE   \n",
       "2   150098210          ASSAULT       AGGRAVATED ASSAULT WITH BODILY FORCE   \n",
       "3   150098210  SECONDARY CODES                          DOMESTIC VIOLENCE   \n",
       "4   150098226        VANDALISM  MALICIOUS MISCHIEF, VANDALISM OF VEHICLES   \n",
       "\n",
       "  DayOfWeek             Datetime  PdDistrict Resolution  \\\n",
       "0    Monday  2015-01-19 14:00:00     MISSION       NONE   \n",
       "1    Sunday  2015-02-01 15:45:00  TENDERLOIN       NONE   \n",
       "2    Sunday  2015-02-01 15:45:00  TENDERLOIN       NONE   \n",
       "3    Sunday  2015-02-01 15:45:00  TENDERLOIN       NONE   \n",
       "4   Tuesday  2015-01-27 19:00:00    NORTHERN       NONE   \n",
       "\n",
       "                       Address         Lon        Lat  \n",
       "0        18TH ST / VALENCIA ST -122.421582  37.761701  \n",
       "1  300 Block of LEAVENWORTH ST -122.414406  37.784191  \n",
       "2  300 Block of LEAVENWORTH ST -122.414406  37.784191  \n",
       "3  300 Block of LEAVENWORTH ST -122.414406  37.784191  \n",
       "4       LOMBARD ST / LAGUNA ST -122.431119  37.800469  "
      ]
     },
     "execution_count": 4,
     "metadata": {},
     "output_type": "execute_result"
    }
   ],
   "source": [
    "crime = pd.read_sql(\"SELECT * FROM crime\", db)\n",
    "crime.head()"
   ]
  },
  {
   "cell_type": "code",
   "execution_count": 5,
   "metadata": {
    "collapsed": false
   },
   "outputs": [
    {
     "name": "stderr",
     "output_type": "stream",
     "text": [
      "D:\\anaconda2\\lib\\site-packages\\geopandas\\geodataframe.py:376: UserWarning: Boolean Series key will be reindexed to match DataFrame index.\n",
      "  result = super(GeoDataFrame, self).__getitem__(key)\n"
     ]
    }
   ],
   "source": [
    "zips = gpd.read_file(\"cb_2015_us_zcta510_500k\")\n",
    "\n",
    "zips_sf = zips[zips.ZCTA5CE10.str.startswith(\"941\")]\n",
    "zips_sf = zips_sf[pd.to_numeric(zips.ZCTA5CE10) <= 94158]\n",
    "zips_sf = zips_sf.drop(25170,axis=0)"
   ]
  },
  {
   "cell_type": "code",
   "execution_count": 6,
   "metadata": {
    "collapsed": false
   },
   "outputs": [],
   "source": [
    "lonlat_c = [geom.Point(lon, lat) for lon, lat in zip(crime.Lon, crime.Lat)]\n",
    "crime.drop([\"Lat\", \"Lon\"], axis = 1)\n",
    "\n",
    "crime= gpd.GeoDataFrame(crime, geometry = lonlat_c, crs = {'init' :'epsg:4326'})\n",
    "crime.crs = crime.to_crs(zips.crs)\n",
    "crime = crime.dropna()"
   ]
  },
  {
   "cell_type": "code",
   "execution_count": 10,
   "metadata": {
    "collapsed": false
   },
   "outputs": [],
   "source": [
    "def findzip(x):\n",
    "    zipcode = []\n",
    "    for pt in x.geometry:\n",
    "        matched = zips_sf[zips_sf.geometry.contains(pt)]\n",
    "        if matched.shape[0] == 0:\n",
    "            zipcode.append(np.NaN)\n",
    "        else:\n",
    "            zipcode.append(matched.ZCTA5CE10.iloc[0])\n",
    "    return zipcode"
   ]
  },
  {
   "cell_type": "code",
   "execution_count": 13,
   "metadata": {
    "collapsed": false
   },
   "outputs": [
    {
     "data": {
      "text/html": [
       "<div>\n",
       "<table border=\"1\" class=\"dataframe\">\n",
       "  <thead>\n",
       "    <tr style=\"text-align: right;\">\n",
       "      <th></th>\n",
       "      <th>IncidntNum</th>\n",
       "      <th>Category</th>\n",
       "      <th>Descript</th>\n",
       "      <th>DayOfWeek</th>\n",
       "      <th>Datetime</th>\n",
       "      <th>PdDistrict</th>\n",
       "      <th>Resolution</th>\n",
       "      <th>Address</th>\n",
       "      <th>Lon</th>\n",
       "      <th>Lat</th>\n",
       "      <th>geometry</th>\n",
       "      <th>zip</th>\n",
       "    </tr>\n",
       "  </thead>\n",
       "  <tbody>\n",
       "    <tr>\n",
       "      <th>0</th>\n",
       "      <td>150060275</td>\n",
       "      <td>NON-CRIMINAL</td>\n",
       "      <td>LOST PROPERTY</td>\n",
       "      <td>Monday</td>\n",
       "      <td>2015-01-19 14:00:00</td>\n",
       "      <td>MISSION</td>\n",
       "      <td>NONE</td>\n",
       "      <td>18TH ST / VALENCIA ST</td>\n",
       "      <td>-122.421582</td>\n",
       "      <td>37.761701</td>\n",
       "      <td>POINT (-122.42158168137 37.7617007179518)</td>\n",
       "      <td>94110</td>\n",
       "    </tr>\n",
       "    <tr>\n",
       "      <th>1</th>\n",
       "      <td>150098210</td>\n",
       "      <td>ROBBERY</td>\n",
       "      <td>ROBBERY, BODILY FORCE</td>\n",
       "      <td>Sunday</td>\n",
       "      <td>2015-02-01 15:45:00</td>\n",
       "      <td>TENDERLOIN</td>\n",
       "      <td>NONE</td>\n",
       "      <td>300 Block of LEAVENWORTH ST</td>\n",
       "      <td>-122.414406</td>\n",
       "      <td>37.784191</td>\n",
       "      <td>POINT (-122.414406029855 37.7841907151119)</td>\n",
       "      <td>94109</td>\n",
       "    </tr>\n",
       "    <tr>\n",
       "      <th>2</th>\n",
       "      <td>150098210</td>\n",
       "      <td>ASSAULT</td>\n",
       "      <td>AGGRAVATED ASSAULT WITH BODILY FORCE</td>\n",
       "      <td>Sunday</td>\n",
       "      <td>2015-02-01 15:45:00</td>\n",
       "      <td>TENDERLOIN</td>\n",
       "      <td>NONE</td>\n",
       "      <td>300 Block of LEAVENWORTH ST</td>\n",
       "      <td>-122.414406</td>\n",
       "      <td>37.784191</td>\n",
       "      <td>POINT (-122.414406029855 37.7841907151119)</td>\n",
       "      <td>94109</td>\n",
       "    </tr>\n",
       "    <tr>\n",
       "      <th>3</th>\n",
       "      <td>150098210</td>\n",
       "      <td>SECONDARY CODES</td>\n",
       "      <td>DOMESTIC VIOLENCE</td>\n",
       "      <td>Sunday</td>\n",
       "      <td>2015-02-01 15:45:00</td>\n",
       "      <td>TENDERLOIN</td>\n",
       "      <td>NONE</td>\n",
       "      <td>300 Block of LEAVENWORTH ST</td>\n",
       "      <td>-122.414406</td>\n",
       "      <td>37.784191</td>\n",
       "      <td>POINT (-122.414406029855 37.7841907151119)</td>\n",
       "      <td>94109</td>\n",
       "    </tr>\n",
       "    <tr>\n",
       "      <th>4</th>\n",
       "      <td>150098226</td>\n",
       "      <td>VANDALISM</td>\n",
       "      <td>MALICIOUS MISCHIEF, VANDALISM OF VEHICLES</td>\n",
       "      <td>Tuesday</td>\n",
       "      <td>2015-01-27 19:00:00</td>\n",
       "      <td>NORTHERN</td>\n",
       "      <td>NONE</td>\n",
       "      <td>LOMBARD ST / LAGUNA ST</td>\n",
       "      <td>-122.431119</td>\n",
       "      <td>37.800469</td>\n",
       "      <td>POINT (-122.431118543788 37.8004687042875)</td>\n",
       "      <td>94123</td>\n",
       "    </tr>\n",
       "  </tbody>\n",
       "</table>\n",
       "</div>"
      ],
      "text/plain": [
       "   IncidntNum         Category                                   Descript  \\\n",
       "0   150060275     NON-CRIMINAL                              LOST PROPERTY   \n",
       "1   150098210          ROBBERY                      ROBBERY, BODILY FORCE   \n",
       "2   150098210          ASSAULT       AGGRAVATED ASSAULT WITH BODILY FORCE   \n",
       "3   150098210  SECONDARY CODES                          DOMESTIC VIOLENCE   \n",
       "4   150098226        VANDALISM  MALICIOUS MISCHIEF, VANDALISM OF VEHICLES   \n",
       "\n",
       "  DayOfWeek             Datetime  PdDistrict Resolution  \\\n",
       "0    Monday  2015-01-19 14:00:00     MISSION       NONE   \n",
       "1    Sunday  2015-02-01 15:45:00  TENDERLOIN       NONE   \n",
       "2    Sunday  2015-02-01 15:45:00  TENDERLOIN       NONE   \n",
       "3    Sunday  2015-02-01 15:45:00  TENDERLOIN       NONE   \n",
       "4   Tuesday  2015-01-27 19:00:00    NORTHERN       NONE   \n",
       "\n",
       "                       Address         Lon        Lat  \\\n",
       "0        18TH ST / VALENCIA ST -122.421582  37.761701   \n",
       "1  300 Block of LEAVENWORTH ST -122.414406  37.784191   \n",
       "2  300 Block of LEAVENWORTH ST -122.414406  37.784191   \n",
       "3  300 Block of LEAVENWORTH ST -122.414406  37.784191   \n",
       "4       LOMBARD ST / LAGUNA ST -122.431119  37.800469   \n",
       "\n",
       "                                     geometry    zip  \n",
       "0   POINT (-122.42158168137 37.7617007179518)  94110  \n",
       "1  POINT (-122.414406029855 37.7841907151119)  94109  \n",
       "2  POINT (-122.414406029855 37.7841907151119)  94109  \n",
       "3  POINT (-122.414406029855 37.7841907151119)  94109  \n",
       "4  POINT (-122.431118543788 37.8004687042875)  94123  "
      ]
     },
     "execution_count": 13,
     "metadata": {},
     "output_type": "execute_result"
    }
   ],
   "source": [
    "crime[\"zip\"] = findzip(crime)\n",
    "crime.head()"
   ]
  },
  {
   "cell_type": "code",
   "execution_count": null,
   "metadata": {
    "collapsed": true
   },
   "outputs": [],
   "source": [
    "base = zips_sf.plot()\n",
    "crime.plot(ax = base, marker = \"o\", color = \"green\")"
   ]
  },
  {
   "cell_type": "markdown",
   "metadata": {},
   "source": [
    "### 2.3 Are noise complaints and mobile food vendors related?\n",
    "\n",
    "This question need to use two data set noise and mobile_food_locations."
   ]
  },
  {
   "cell_type": "code",
   "execution_count": 12,
   "metadata": {
    "collapsed": false
   },
   "outputs": [
    {
     "data": {
      "text/html": [
       "<div>\n",
       "<table border=\"1\" class=\"dataframe\">\n",
       "  <thead>\n",
       "    <tr style=\"text-align: right;\">\n",
       "      <th></th>\n",
       "      <th>CaseID</th>\n",
       "      <th>Type</th>\n",
       "      <th>Address</th>\n",
       "      <th>Neighborhood</th>\n",
       "      <th>Datetime</th>\n",
       "      <th>Lat</th>\n",
       "      <th>Lon</th>\n",
       "    </tr>\n",
       "  </thead>\n",
       "  <tbody>\n",
       "    <tr>\n",
       "      <th>0</th>\n",
       "      <td>5130305</td>\n",
       "      <td>other_excessive_noise</td>\n",
       "      <td>Not associated with a specific address</td>\n",
       "      <td>None</td>\n",
       "      <td>2015-09-25 00:29:33</td>\n",
       "      <td>NaN</td>\n",
       "      <td>NaN</td>\n",
       "    </tr>\n",
       "    <tr>\n",
       "      <th>1</th>\n",
       "      <td>6446138</td>\n",
       "      <td>amplified_sound_electronics</td>\n",
       "      <td>Intersection of CLINTON PARK and GUERRERO ST</td>\n",
       "      <td>Mission Dolores</td>\n",
       "      <td>2016-10-21 13:20:18</td>\n",
       "      <td>37.769148</td>\n",
       "      <td>-122.424475</td>\n",
       "    </tr>\n",
       "    <tr>\n",
       "      <th>2</th>\n",
       "      <td>5929789</td>\n",
       "      <td>other_excessive_noise</td>\n",
       "      <td>1301 48TH AVE, SAN FRANCISCO, CA, 94122</td>\n",
       "      <td>Outer Sunset</td>\n",
       "      <td>2016-06-01 11:38:59</td>\n",
       "      <td>37.762047</td>\n",
       "      <td>-122.508365</td>\n",
       "    </tr>\n",
       "    <tr>\n",
       "      <th>3</th>\n",
       "      <td>5659943</td>\n",
       "      <td>other_excessive_noise</td>\n",
       "      <td>736 LEAVENWORTH ST, SAN FRANCISCO, CA, 94109</td>\n",
       "      <td>Lower Nob Hill</td>\n",
       "      <td>2016-03-13 01:18:27</td>\n",
       "      <td>37.787983</td>\n",
       "      <td>-122.414943</td>\n",
       "    </tr>\n",
       "    <tr>\n",
       "      <th>4</th>\n",
       "      <td>5930704</td>\n",
       "      <td>other_excessive_noise</td>\n",
       "      <td>1360 43RD AVE, SAN FRANCISCO, CA, 94122</td>\n",
       "      <td>Outer Sunset</td>\n",
       "      <td>2016-06-01 13:58:43</td>\n",
       "      <td>37.761385</td>\n",
       "      <td>-122.502232</td>\n",
       "    </tr>\n",
       "  </tbody>\n",
       "</table>\n",
       "</div>"
      ],
      "text/plain": [
       "    CaseID                         Type  \\\n",
       "0  5130305        other_excessive_noise   \n",
       "1  6446138  amplified_sound_electronics   \n",
       "2  5929789        other_excessive_noise   \n",
       "3  5659943        other_excessive_noise   \n",
       "4  5930704        other_excessive_noise   \n",
       "\n",
       "                                        Address     Neighborhood  \\\n",
       "0        Not associated with a specific address             None   \n",
       "1  Intersection of CLINTON PARK and GUERRERO ST  Mission Dolores   \n",
       "2       1301 48TH AVE, SAN FRANCISCO, CA, 94122     Outer Sunset   \n",
       "3  736 LEAVENWORTH ST, SAN FRANCISCO, CA, 94109   Lower Nob Hill   \n",
       "4       1360 43RD AVE, SAN FRANCISCO, CA, 94122     Outer Sunset   \n",
       "\n",
       "              Datetime        Lat         Lon  \n",
       "0  2015-09-25 00:29:33        NaN         NaN  \n",
       "1  2016-10-21 13:20:18  37.769148 -122.424475  \n",
       "2  2016-06-01 11:38:59  37.762047 -122.508365  \n",
       "3  2016-03-13 01:18:27  37.787983 -122.414943  \n",
       "4  2016-06-01 13:58:43  37.761385 -122.502232  "
      ]
     },
     "execution_count": 12,
     "metadata": {},
     "output_type": "execute_result"
    }
   ],
   "source": [
    "noise = pd.read_sql(\"SELECT * FROM noise\", db)\n",
    "noise.head()"
   ]
  }
 ],
 "metadata": {
  "anaconda-cloud": {},
  "kernelspec": {
   "display_name": "Python [default]",
   "language": "python",
   "name": "python2"
  },
  "language_info": {
   "codemirror_mode": {
    "name": "ipython",
    "version": 2
   },
   "file_extension": ".py",
   "mimetype": "text/x-python",
   "name": "python",
   "nbconvert_exporter": "python",
   "pygments_lexer": "ipython2",
   "version": "2.7.12"
  }
 },
 "nbformat": 4,
 "nbformat_minor": 2
}
